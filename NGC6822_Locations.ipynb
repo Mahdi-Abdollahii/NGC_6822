{
  "nbformat": 4,
  "nbformat_minor": 0,
  "metadata": {
    "colab": {
      "provenance": [],
      "collapsed_sections": [
        "5yXBYNH3_gtU",
        "E4ap_TheWtFT",
        "oVhNbvJMY_dL",
        "qzim-ZYpVawy"
      ],
      "authorship_tag": "ABX9TyMumi0+SB4tRMDOdtzFLLsh",
      "include_colab_link": true
    },
    "kernelspec": {
      "name": "python3",
      "display_name": "Python 3"
    },
    "language_info": {
      "name": "python"
    }
  },
  "cells": [
    {
      "cell_type": "markdown",
      "metadata": {
        "id": "view-in-github",
        "colab_type": "text"
      },
      "source": [
        "<a href=\"https://colab.research.google.com/github/Mahdi-Abdollahii/NGC_6822/blob/main/NGC6822_Locations.ipynb\" target=\"_parent\"><img src=\"https://colab.research.google.com/assets/colab-badge.svg\" alt=\"Open In Colab\"/></a>"
      ]
    },
    {
      "cell_type": "markdown",
      "source": [
        "In this notebook I set some limitations to label stars by their locations."
      ],
      "metadata": {
        "id": "lNuRIN_tX_Sn"
      }
    },
    {
      "cell_type": "code",
      "source": [
        "!git clone https://github.com/Mahdi-Abdollahii/NGC_6822.git"
      ],
      "metadata": {
        "colab": {
          "base_uri": "https://localhost:8080/"
        },
        "id": "F0ngvINNAdgB",
        "outputId": "71e53816-8f26-4996-aa49-74334e2e1fbb"
      },
      "execution_count": 1,
      "outputs": [
        {
          "output_type": "stream",
          "name": "stdout",
          "text": [
            "Cloning into 'NGC_6822'...\n",
            "remote: Enumerating objects: 1028, done.\u001b[K\n",
            "remote: Counting objects: 100% (363/363), done.\u001b[K\n",
            "remote: Compressing objects: 100% (216/216), done.\u001b[K\n",
            "remote: Total 1028 (delta 202), reused 239 (delta 147), pack-reused 665\u001b[K\n",
            "Receiving objects: 100% (1028/1028), 84.39 MiB | 19.15 MiB/s, done.\n",
            "Resolving deltas: 100% (482/482), done.\n",
            "Updating files: 100% (127/127), done.\n"
          ]
        }
      ]
    },
    {
      "cell_type": "code",
      "source": [
        "%matplotlib inline\n",
        "from matplotlib import cm\n",
        "import matplotlib.pyplot as plt\n",
        "import pylab as py\n",
        "from matplotlib import gridspec\n",
        "import numpy as np\n",
        "import pandas as pd\n",
        "import math\n",
        "import scipy.integrate as integrate\n",
        "pd.options.mode.chained_assignment = None  # default='warn'\n",
        "\n",
        "from astropy.io import ascii\n",
        "import csv\n",
        "import matplotlib.colors as mcolors\n",
        "from matplotlib.font_manager import FontProperties\n",
        "import matplotlib.markers as mmark\n",
        "import matplotlib.lines as mlines\n",
        "from matplotlib.legend_handler import HandlerBase\n",
        "from matplotlib.ticker import MultipleLocator\n",
        "from matplotlib.ticker import FormatStrFormatter\n",
        "from matplotlib.ticker import AutoMinorLocator\n",
        "\n",
        "import matplotlib.ticker as ticker\n",
        "from mpl_toolkits.axes_grid1 import host_subplot\n",
        "from matplotlib.patches import Rectangle\n",
        "import matplotlib.colors as mcolor"
      ],
      "metadata": {
        "id": "EyuIL-lIFYM7"
      },
      "execution_count": 2,
      "outputs": []
    },
    {
      "cell_type": "code",
      "source": [
        "def Ellipse(x,a,b):\n",
        "  '''\n",
        "   a: semi-major axis\n",
        "   b: semi-minor axis\n",
        "  '''\n",
        "  y = b * ((1 - ((x/a)**2) )**0.5)\n",
        "  return y"
      ],
      "metadata": {
        "id": "SKaz5JI9VpXJ"
      },
      "execution_count": 4,
      "outputs": []
    },
    {
      "cell_type": "code",
      "source": [
        "Z = 0.01\n",
        "Z_name = ''.join(list(str(Z))[2:])"
      ],
      "metadata": {
        "id": "hyamXNKjTikb"
      },
      "execution_count": 3,
      "outputs": []
    },
    {
      "cell_type": "markdown",
      "source": [
        "# Data Preparing"
      ],
      "metadata": {
        "id": "5yXBYNH3_gtU"
      }
    },
    {
      "cell_type": "code",
      "source": [
        "DM = 23.45 # based on sibbons => (Mateo 1998; Lee et al. 1993)\n",
        "\n",
        "Av = 0.77  # based on whitelock 2012\n",
        "Aj = 0.2   # based on whitelock 2012\n",
        "Ah = 0.12  # based on whitelock 2012\n",
        "Ak = 0.07  # based on whitelock 2012\n",
        "\n",
        "RGBT = 17.42 # based on whitelock 2012\n",
        "\n",
        "Ra_center = 296.23 #degree\n",
        "Dec_center = -14.80167 #degree\n",
        "\n",
        "Distance = 500 #Kpc\n",
        "R_bulge = 0.560 #Kpc\n",
        "R_body = 1.4 #Kpc"
      ],
      "metadata": {
        "id": "m9SsUGDHGUgY"
      },
      "execution_count": 5,
      "outputs": []
    },
    {
      "cell_type": "code",
      "source": [
        "df = pd.read_csv('/content/NGC_6822/Data/final_data_v2.csv')"
      ],
      "metadata": {
        "id": "DXM2oZXAONpK"
      },
      "execution_count": 6,
      "outputs": []
    },
    {
      "cell_type": "code",
      "source": [
        "df"
      ],
      "metadata": {
        "colab": {
          "base_uri": "https://localhost:8080/",
          "height": 0
        },
        "id": "fVi8jLbbYsga",
        "outputId": "a7743cf8-0a7e-4724-9d3c-e42684362ed2"
      },
      "execution_count": 7,
      "outputs": [
        {
          "output_type": "execute_result",
          "data": {
            "text/plain": [
              "     Id-main  Ra(J2000) deg  Dec(J2000) deg       J    eJ      H    eH     Ks  \\\n",
              "0    10870.0     296.178920      -14.822860  17.520  0.04  16.53  0.04  16.19   \n",
              "1    10784.0     296.215450      -14.834690  17.450  0.03  16.53  0.04  16.20   \n",
              "2    11004.0     296.273410      -14.808610  17.600  0.03  16.62  0.03  16.27   \n",
              "3    11029.0     296.283080      -14.804970  17.460  0.03  16.55  0.02  16.22   \n",
              "4    12050.0     296.254270      -14.817640  18.170  0.07  17.25  0.10  16.70   \n",
              "..       ...            ...             ...     ...   ...    ...   ...    ...   \n",
              "372      NaN     296.003693      -14.974893  18.392   NaN  17.56   NaN  17.21   \n",
              "373  10032.0     296.226960      -14.801910  14.480   NaN  13.66   NaN  13.34   \n",
              "374  10074.0     296.240050      -14.807960  14.740   NaN  13.94   NaN  13.66   \n",
              "375  20022.0     296.208160      -14.726160  14.090   NaN  13.21   NaN  12.83   \n",
              "376  40397.0     296.243010      -14.746520  14.100   NaN   13.3   NaN  12.99   \n",
              "\n",
              "      eKs Types       DCG  \n",
              "0    0.05     S  0.055301  \n",
              "1    0.06     S  0.036084  \n",
              "2    0.05     S  0.043961  \n",
              "3    0.05     S  0.053182  \n",
              "4    0.05     S  0.029053  \n",
              "..    ...   ...       ...  \n",
              "372   NaN     C  0.284993  \n",
              "373   NaN     s  0.003049  \n",
              "374   NaN     s  0.011856  \n",
              "375   NaN     s  0.078605  \n",
              "376   NaN     s  0.056664  \n",
              "\n",
              "[377 rows x 11 columns]"
            ],
            "text/html": [
              "\n",
              "  <div id=\"df-a98491d2-0292-481f-b218-aeb59e2426b9\">\n",
              "    <div class=\"colab-df-container\">\n",
              "      <div>\n",
              "<style scoped>\n",
              "    .dataframe tbody tr th:only-of-type {\n",
              "        vertical-align: middle;\n",
              "    }\n",
              "\n",
              "    .dataframe tbody tr th {\n",
              "        vertical-align: top;\n",
              "    }\n",
              "\n",
              "    .dataframe thead th {\n",
              "        text-align: right;\n",
              "    }\n",
              "</style>\n",
              "<table border=\"1\" class=\"dataframe\">\n",
              "  <thead>\n",
              "    <tr style=\"text-align: right;\">\n",
              "      <th></th>\n",
              "      <th>Id-main</th>\n",
              "      <th>Ra(J2000) deg</th>\n",
              "      <th>Dec(J2000) deg</th>\n",
              "      <th>J</th>\n",
              "      <th>eJ</th>\n",
              "      <th>H</th>\n",
              "      <th>eH</th>\n",
              "      <th>Ks</th>\n",
              "      <th>eKs</th>\n",
              "      <th>Types</th>\n",
              "      <th>DCG</th>\n",
              "    </tr>\n",
              "  </thead>\n",
              "  <tbody>\n",
              "    <tr>\n",
              "      <th>0</th>\n",
              "      <td>10870.0</td>\n",
              "      <td>296.178920</td>\n",
              "      <td>-14.822860</td>\n",
              "      <td>17.520</td>\n",
              "      <td>0.04</td>\n",
              "      <td>16.53</td>\n",
              "      <td>0.04</td>\n",
              "      <td>16.19</td>\n",
              "      <td>0.05</td>\n",
              "      <td>S</td>\n",
              "      <td>0.055301</td>\n",
              "    </tr>\n",
              "    <tr>\n",
              "      <th>1</th>\n",
              "      <td>10784.0</td>\n",
              "      <td>296.215450</td>\n",
              "      <td>-14.834690</td>\n",
              "      <td>17.450</td>\n",
              "      <td>0.03</td>\n",
              "      <td>16.53</td>\n",
              "      <td>0.04</td>\n",
              "      <td>16.20</td>\n",
              "      <td>0.06</td>\n",
              "      <td>S</td>\n",
              "      <td>0.036084</td>\n",
              "    </tr>\n",
              "    <tr>\n",
              "      <th>2</th>\n",
              "      <td>11004.0</td>\n",
              "      <td>296.273410</td>\n",
              "      <td>-14.808610</td>\n",
              "      <td>17.600</td>\n",
              "      <td>0.03</td>\n",
              "      <td>16.62</td>\n",
              "      <td>0.03</td>\n",
              "      <td>16.27</td>\n",
              "      <td>0.05</td>\n",
              "      <td>S</td>\n",
              "      <td>0.043961</td>\n",
              "    </tr>\n",
              "    <tr>\n",
              "      <th>3</th>\n",
              "      <td>11029.0</td>\n",
              "      <td>296.283080</td>\n",
              "      <td>-14.804970</td>\n",
              "      <td>17.460</td>\n",
              "      <td>0.03</td>\n",
              "      <td>16.55</td>\n",
              "      <td>0.02</td>\n",
              "      <td>16.22</td>\n",
              "      <td>0.05</td>\n",
              "      <td>S</td>\n",
              "      <td>0.053182</td>\n",
              "    </tr>\n",
              "    <tr>\n",
              "      <th>4</th>\n",
              "      <td>12050.0</td>\n",
              "      <td>296.254270</td>\n",
              "      <td>-14.817640</td>\n",
              "      <td>18.170</td>\n",
              "      <td>0.07</td>\n",
              "      <td>17.25</td>\n",
              "      <td>0.10</td>\n",
              "      <td>16.70</td>\n",
              "      <td>0.05</td>\n",
              "      <td>S</td>\n",
              "      <td>0.029053</td>\n",
              "    </tr>\n",
              "    <tr>\n",
              "      <th>...</th>\n",
              "      <td>...</td>\n",
              "      <td>...</td>\n",
              "      <td>...</td>\n",
              "      <td>...</td>\n",
              "      <td>...</td>\n",
              "      <td>...</td>\n",
              "      <td>...</td>\n",
              "      <td>...</td>\n",
              "      <td>...</td>\n",
              "      <td>...</td>\n",
              "      <td>...</td>\n",
              "    </tr>\n",
              "    <tr>\n",
              "      <th>372</th>\n",
              "      <td>NaN</td>\n",
              "      <td>296.003693</td>\n",
              "      <td>-14.974893</td>\n",
              "      <td>18.392</td>\n",
              "      <td>NaN</td>\n",
              "      <td>17.56</td>\n",
              "      <td>NaN</td>\n",
              "      <td>17.21</td>\n",
              "      <td>NaN</td>\n",
              "      <td>C</td>\n",
              "      <td>0.284993</td>\n",
              "    </tr>\n",
              "    <tr>\n",
              "      <th>373</th>\n",
              "      <td>10032.0</td>\n",
              "      <td>296.226960</td>\n",
              "      <td>-14.801910</td>\n",
              "      <td>14.480</td>\n",
              "      <td>NaN</td>\n",
              "      <td>13.66</td>\n",
              "      <td>NaN</td>\n",
              "      <td>13.34</td>\n",
              "      <td>NaN</td>\n",
              "      <td>s</td>\n",
              "      <td>0.003049</td>\n",
              "    </tr>\n",
              "    <tr>\n",
              "      <th>374</th>\n",
              "      <td>10074.0</td>\n",
              "      <td>296.240050</td>\n",
              "      <td>-14.807960</td>\n",
              "      <td>14.740</td>\n",
              "      <td>NaN</td>\n",
              "      <td>13.94</td>\n",
              "      <td>NaN</td>\n",
              "      <td>13.66</td>\n",
              "      <td>NaN</td>\n",
              "      <td>s</td>\n",
              "      <td>0.011856</td>\n",
              "    </tr>\n",
              "    <tr>\n",
              "      <th>375</th>\n",
              "      <td>20022.0</td>\n",
              "      <td>296.208160</td>\n",
              "      <td>-14.726160</td>\n",
              "      <td>14.090</td>\n",
              "      <td>NaN</td>\n",
              "      <td>13.21</td>\n",
              "      <td>NaN</td>\n",
              "      <td>12.83</td>\n",
              "      <td>NaN</td>\n",
              "      <td>s</td>\n",
              "      <td>0.078605</td>\n",
              "    </tr>\n",
              "    <tr>\n",
              "      <th>376</th>\n",
              "      <td>40397.0</td>\n",
              "      <td>296.243010</td>\n",
              "      <td>-14.746520</td>\n",
              "      <td>14.100</td>\n",
              "      <td>NaN</td>\n",
              "      <td>13.3</td>\n",
              "      <td>NaN</td>\n",
              "      <td>12.99</td>\n",
              "      <td>NaN</td>\n",
              "      <td>s</td>\n",
              "      <td>0.056664</td>\n",
              "    </tr>\n",
              "  </tbody>\n",
              "</table>\n",
              "<p>377 rows × 11 columns</p>\n",
              "</div>\n",
              "      <button class=\"colab-df-convert\" onclick=\"convertToInteractive('df-a98491d2-0292-481f-b218-aeb59e2426b9')\"\n",
              "              title=\"Convert this dataframe to an interactive table.\"\n",
              "              style=\"display:none;\">\n",
              "        \n",
              "  <svg xmlns=\"http://www.w3.org/2000/svg\" height=\"24px\"viewBox=\"0 0 24 24\"\n",
              "       width=\"24px\">\n",
              "    <path d=\"M0 0h24v24H0V0z\" fill=\"none\"/>\n",
              "    <path d=\"M18.56 5.44l.94 2.06.94-2.06 2.06-.94-2.06-.94-.94-2.06-.94 2.06-2.06.94zm-11 1L8.5 8.5l.94-2.06 2.06-.94-2.06-.94L8.5 2.5l-.94 2.06-2.06.94zm10 10l.94 2.06.94-2.06 2.06-.94-2.06-.94-.94-2.06-.94 2.06-2.06.94z\"/><path d=\"M17.41 7.96l-1.37-1.37c-.4-.4-.92-.59-1.43-.59-.52 0-1.04.2-1.43.59L10.3 9.45l-7.72 7.72c-.78.78-.78 2.05 0 2.83L4 21.41c.39.39.9.59 1.41.59.51 0 1.02-.2 1.41-.59l7.78-7.78 2.81-2.81c.8-.78.8-2.07 0-2.86zM5.41 20L4 18.59l7.72-7.72 1.47 1.35L5.41 20z\"/>\n",
              "  </svg>\n",
              "      </button>\n",
              "      \n",
              "  <style>\n",
              "    .colab-df-container {\n",
              "      display:flex;\n",
              "      flex-wrap:wrap;\n",
              "      gap: 12px;\n",
              "    }\n",
              "\n",
              "    .colab-df-convert {\n",
              "      background-color: #E8F0FE;\n",
              "      border: none;\n",
              "      border-radius: 50%;\n",
              "      cursor: pointer;\n",
              "      display: none;\n",
              "      fill: #1967D2;\n",
              "      height: 32px;\n",
              "      padding: 0 0 0 0;\n",
              "      width: 32px;\n",
              "    }\n",
              "\n",
              "    .colab-df-convert:hover {\n",
              "      background-color: #E2EBFA;\n",
              "      box-shadow: 0px 1px 2px rgba(60, 64, 67, 0.3), 0px 1px 3px 1px rgba(60, 64, 67, 0.15);\n",
              "      fill: #174EA6;\n",
              "    }\n",
              "\n",
              "    [theme=dark] .colab-df-convert {\n",
              "      background-color: #3B4455;\n",
              "      fill: #D2E3FC;\n",
              "    }\n",
              "\n",
              "    [theme=dark] .colab-df-convert:hover {\n",
              "      background-color: #434B5C;\n",
              "      box-shadow: 0px 1px 3px 1px rgba(0, 0, 0, 0.15);\n",
              "      filter: drop-shadow(0px 1px 2px rgba(0, 0, 0, 0.3));\n",
              "      fill: #FFFFFF;\n",
              "    }\n",
              "  </style>\n",
              "\n",
              "      <script>\n",
              "        const buttonEl =\n",
              "          document.querySelector('#df-a98491d2-0292-481f-b218-aeb59e2426b9 button.colab-df-convert');\n",
              "        buttonEl.style.display =\n",
              "          google.colab.kernel.accessAllowed ? 'block' : 'none';\n",
              "\n",
              "        async function convertToInteractive(key) {\n",
              "          const element = document.querySelector('#df-a98491d2-0292-481f-b218-aeb59e2426b9');\n",
              "          const dataTable =\n",
              "            await google.colab.kernel.invokeFunction('convertToInteractive',\n",
              "                                                     [key], {});\n",
              "          if (!dataTable) return;\n",
              "\n",
              "          const docLinkHtml = 'Like what you see? Visit the ' +\n",
              "            '<a target=\"_blank\" href=https://colab.research.google.com/notebooks/data_table.ipynb>data table notebook</a>'\n",
              "            + ' to learn more about interactive tables.';\n",
              "          element.innerHTML = '';\n",
              "          dataTable['output_type'] = 'display_data';\n",
              "          await google.colab.output.renderOutput(dataTable, element);\n",
              "          const docLink = document.createElement('div');\n",
              "          docLink.innerHTML = docLinkHtml;\n",
              "          element.appendChild(docLink);\n",
              "        }\n",
              "      </script>\n",
              "    </div>\n",
              "  </div>\n",
              "  "
            ]
          },
          "metadata": {},
          "execution_count": 7
        }
      ]
    },
    {
      "cell_type": "markdown",
      "source": [
        "# Wyder"
      ],
      "metadata": {
        "id": "E4ap_TheWtFT"
      }
    },
    {
      "cell_type": "code",
      "source": [
        "df_wyder_region = pd.read_csv(\"/content/NGC_6822/Data/Wyder_regions.csv\")"
      ],
      "metadata": {
        "id": "CVujJpLMW589"
      },
      "execution_count": 8,
      "outputs": []
    },
    {
      "cell_type": "code",
      "source": [
        "Wyder_centers = df_wyder_region.groupby('Region')['Dec','RA'].aggregate('mean')"
      ],
      "metadata": {
        "colab": {
          "base_uri": "https://localhost:8080/"
        },
        "id": "u43GmoKIXi9Y",
        "outputId": "797612ae-6837-4f44-a48e-b558d026f124"
      },
      "execution_count": 9,
      "outputs": [
        {
          "output_type": "stream",
          "name": "stderr",
          "text": [
            "<ipython-input-9-86897443ceb5>:1: FutureWarning: Indexing with multiple keys (implicitly converted to a tuple of keys) will be deprecated, use a list instead.\n",
            "  Wyder_centers = df_wyder_region.groupby('Region')['Dec','RA'].aggregate('mean')\n"
          ]
        }
      ]
    },
    {
      "cell_type": "code",
      "source": [
        "df['Wyder'] = 0\n",
        "for j in range(len(Wyder_centers)):\n",
        "  for i in range(len(df)):\n",
        "    distance = (((df.loc[i,'Dec(J2000) deg']-Wyder_centers.loc[Wyder_centers.index[j],'Dec'])**2) +\n",
        "                ((df.loc[i,'Ra(J2000) deg']-Wyder_centers.loc[Wyder_centers.index[j],'RA'])**2))**0.5\n",
        "    if distance <= 0.023 :\n",
        "      df.loc[i,'Wyder'] = int(1)"
      ],
      "metadata": {
        "id": "KfUEYM58ZCx3"
      },
      "execution_count": 10,
      "outputs": []
    },
    {
      "cell_type": "code",
      "source": [
        "df"
      ],
      "metadata": {
        "colab": {
          "base_uri": "https://localhost:8080/",
          "height": 0
        },
        "id": "OUbiSSeeZepL",
        "outputId": "9a9084c6-5b59-4c57-c5b5-e08e8a86a260"
      },
      "execution_count": 11,
      "outputs": [
        {
          "output_type": "execute_result",
          "data": {
            "text/plain": [
              "     Id-main  Ra(J2000) deg  Dec(J2000) deg       J    eJ      H    eH     Ks  \\\n",
              "0    10870.0     296.178920      -14.822860  17.520  0.04  16.53  0.04  16.19   \n",
              "1    10784.0     296.215450      -14.834690  17.450  0.03  16.53  0.04  16.20   \n",
              "2    11004.0     296.273410      -14.808610  17.600  0.03  16.62  0.03  16.27   \n",
              "3    11029.0     296.283080      -14.804970  17.460  0.03  16.55  0.02  16.22   \n",
              "4    12050.0     296.254270      -14.817640  18.170  0.07  17.25  0.10  16.70   \n",
              "..       ...            ...             ...     ...   ...    ...   ...    ...   \n",
              "372      NaN     296.003693      -14.974893  18.392   NaN  17.56   NaN  17.21   \n",
              "373  10032.0     296.226960      -14.801910  14.480   NaN  13.66   NaN  13.34   \n",
              "374  10074.0     296.240050      -14.807960  14.740   NaN  13.94   NaN  13.66   \n",
              "375  20022.0     296.208160      -14.726160  14.090   NaN  13.21   NaN  12.83   \n",
              "376  40397.0     296.243010      -14.746520  14.100   NaN   13.3   NaN  12.99   \n",
              "\n",
              "      eKs Types       DCG  Wyder  \n",
              "0    0.05     S  0.055301      0  \n",
              "1    0.06     S  0.036084      1  \n",
              "2    0.05     S  0.043961      0  \n",
              "3    0.05     S  0.053182      0  \n",
              "4    0.05     S  0.029053      1  \n",
              "..    ...   ...       ...    ...  \n",
              "372   NaN     C  0.284993      0  \n",
              "373   NaN     s  0.003049      1  \n",
              "374   NaN     s  0.011856      1  \n",
              "375   NaN     s  0.078605      0  \n",
              "376   NaN     s  0.056664      1  \n",
              "\n",
              "[377 rows x 12 columns]"
            ],
            "text/html": [
              "\n",
              "  <div id=\"df-dd8c8674-d475-4ab6-8e03-0cc20e3cba5e\">\n",
              "    <div class=\"colab-df-container\">\n",
              "      <div>\n",
              "<style scoped>\n",
              "    .dataframe tbody tr th:only-of-type {\n",
              "        vertical-align: middle;\n",
              "    }\n",
              "\n",
              "    .dataframe tbody tr th {\n",
              "        vertical-align: top;\n",
              "    }\n",
              "\n",
              "    .dataframe thead th {\n",
              "        text-align: right;\n",
              "    }\n",
              "</style>\n",
              "<table border=\"1\" class=\"dataframe\">\n",
              "  <thead>\n",
              "    <tr style=\"text-align: right;\">\n",
              "      <th></th>\n",
              "      <th>Id-main</th>\n",
              "      <th>Ra(J2000) deg</th>\n",
              "      <th>Dec(J2000) deg</th>\n",
              "      <th>J</th>\n",
              "      <th>eJ</th>\n",
              "      <th>H</th>\n",
              "      <th>eH</th>\n",
              "      <th>Ks</th>\n",
              "      <th>eKs</th>\n",
              "      <th>Types</th>\n",
              "      <th>DCG</th>\n",
              "      <th>Wyder</th>\n",
              "    </tr>\n",
              "  </thead>\n",
              "  <tbody>\n",
              "    <tr>\n",
              "      <th>0</th>\n",
              "      <td>10870.0</td>\n",
              "      <td>296.178920</td>\n",
              "      <td>-14.822860</td>\n",
              "      <td>17.520</td>\n",
              "      <td>0.04</td>\n",
              "      <td>16.53</td>\n",
              "      <td>0.04</td>\n",
              "      <td>16.19</td>\n",
              "      <td>0.05</td>\n",
              "      <td>S</td>\n",
              "      <td>0.055301</td>\n",
              "      <td>0</td>\n",
              "    </tr>\n",
              "    <tr>\n",
              "      <th>1</th>\n",
              "      <td>10784.0</td>\n",
              "      <td>296.215450</td>\n",
              "      <td>-14.834690</td>\n",
              "      <td>17.450</td>\n",
              "      <td>0.03</td>\n",
              "      <td>16.53</td>\n",
              "      <td>0.04</td>\n",
              "      <td>16.20</td>\n",
              "      <td>0.06</td>\n",
              "      <td>S</td>\n",
              "      <td>0.036084</td>\n",
              "      <td>1</td>\n",
              "    </tr>\n",
              "    <tr>\n",
              "      <th>2</th>\n",
              "      <td>11004.0</td>\n",
              "      <td>296.273410</td>\n",
              "      <td>-14.808610</td>\n",
              "      <td>17.600</td>\n",
              "      <td>0.03</td>\n",
              "      <td>16.62</td>\n",
              "      <td>0.03</td>\n",
              "      <td>16.27</td>\n",
              "      <td>0.05</td>\n",
              "      <td>S</td>\n",
              "      <td>0.043961</td>\n",
              "      <td>0</td>\n",
              "    </tr>\n",
              "    <tr>\n",
              "      <th>3</th>\n",
              "      <td>11029.0</td>\n",
              "      <td>296.283080</td>\n",
              "      <td>-14.804970</td>\n",
              "      <td>17.460</td>\n",
              "      <td>0.03</td>\n",
              "      <td>16.55</td>\n",
              "      <td>0.02</td>\n",
              "      <td>16.22</td>\n",
              "      <td>0.05</td>\n",
              "      <td>S</td>\n",
              "      <td>0.053182</td>\n",
              "      <td>0</td>\n",
              "    </tr>\n",
              "    <tr>\n",
              "      <th>4</th>\n",
              "      <td>12050.0</td>\n",
              "      <td>296.254270</td>\n",
              "      <td>-14.817640</td>\n",
              "      <td>18.170</td>\n",
              "      <td>0.07</td>\n",
              "      <td>17.25</td>\n",
              "      <td>0.10</td>\n",
              "      <td>16.70</td>\n",
              "      <td>0.05</td>\n",
              "      <td>S</td>\n",
              "      <td>0.029053</td>\n",
              "      <td>1</td>\n",
              "    </tr>\n",
              "    <tr>\n",
              "      <th>...</th>\n",
              "      <td>...</td>\n",
              "      <td>...</td>\n",
              "      <td>...</td>\n",
              "      <td>...</td>\n",
              "      <td>...</td>\n",
              "      <td>...</td>\n",
              "      <td>...</td>\n",
              "      <td>...</td>\n",
              "      <td>...</td>\n",
              "      <td>...</td>\n",
              "      <td>...</td>\n",
              "      <td>...</td>\n",
              "    </tr>\n",
              "    <tr>\n",
              "      <th>372</th>\n",
              "      <td>NaN</td>\n",
              "      <td>296.003693</td>\n",
              "      <td>-14.974893</td>\n",
              "      <td>18.392</td>\n",
              "      <td>NaN</td>\n",
              "      <td>17.56</td>\n",
              "      <td>NaN</td>\n",
              "      <td>17.21</td>\n",
              "      <td>NaN</td>\n",
              "      <td>C</td>\n",
              "      <td>0.284993</td>\n",
              "      <td>0</td>\n",
              "    </tr>\n",
              "    <tr>\n",
              "      <th>373</th>\n",
              "      <td>10032.0</td>\n",
              "      <td>296.226960</td>\n",
              "      <td>-14.801910</td>\n",
              "      <td>14.480</td>\n",
              "      <td>NaN</td>\n",
              "      <td>13.66</td>\n",
              "      <td>NaN</td>\n",
              "      <td>13.34</td>\n",
              "      <td>NaN</td>\n",
              "      <td>s</td>\n",
              "      <td>0.003049</td>\n",
              "      <td>1</td>\n",
              "    </tr>\n",
              "    <tr>\n",
              "      <th>374</th>\n",
              "      <td>10074.0</td>\n",
              "      <td>296.240050</td>\n",
              "      <td>-14.807960</td>\n",
              "      <td>14.740</td>\n",
              "      <td>NaN</td>\n",
              "      <td>13.94</td>\n",
              "      <td>NaN</td>\n",
              "      <td>13.66</td>\n",
              "      <td>NaN</td>\n",
              "      <td>s</td>\n",
              "      <td>0.011856</td>\n",
              "      <td>1</td>\n",
              "    </tr>\n",
              "    <tr>\n",
              "      <th>375</th>\n",
              "      <td>20022.0</td>\n",
              "      <td>296.208160</td>\n",
              "      <td>-14.726160</td>\n",
              "      <td>14.090</td>\n",
              "      <td>NaN</td>\n",
              "      <td>13.21</td>\n",
              "      <td>NaN</td>\n",
              "      <td>12.83</td>\n",
              "      <td>NaN</td>\n",
              "      <td>s</td>\n",
              "      <td>0.078605</td>\n",
              "      <td>0</td>\n",
              "    </tr>\n",
              "    <tr>\n",
              "      <th>376</th>\n",
              "      <td>40397.0</td>\n",
              "      <td>296.243010</td>\n",
              "      <td>-14.746520</td>\n",
              "      <td>14.100</td>\n",
              "      <td>NaN</td>\n",
              "      <td>13.3</td>\n",
              "      <td>NaN</td>\n",
              "      <td>12.99</td>\n",
              "      <td>NaN</td>\n",
              "      <td>s</td>\n",
              "      <td>0.056664</td>\n",
              "      <td>1</td>\n",
              "    </tr>\n",
              "  </tbody>\n",
              "</table>\n",
              "<p>377 rows × 12 columns</p>\n",
              "</div>\n",
              "      <button class=\"colab-df-convert\" onclick=\"convertToInteractive('df-dd8c8674-d475-4ab6-8e03-0cc20e3cba5e')\"\n",
              "              title=\"Convert this dataframe to an interactive table.\"\n",
              "              style=\"display:none;\">\n",
              "        \n",
              "  <svg xmlns=\"http://www.w3.org/2000/svg\" height=\"24px\"viewBox=\"0 0 24 24\"\n",
              "       width=\"24px\">\n",
              "    <path d=\"M0 0h24v24H0V0z\" fill=\"none\"/>\n",
              "    <path d=\"M18.56 5.44l.94 2.06.94-2.06 2.06-.94-2.06-.94-.94-2.06-.94 2.06-2.06.94zm-11 1L8.5 8.5l.94-2.06 2.06-.94-2.06-.94L8.5 2.5l-.94 2.06-2.06.94zm10 10l.94 2.06.94-2.06 2.06-.94-2.06-.94-.94-2.06-.94 2.06-2.06.94z\"/><path d=\"M17.41 7.96l-1.37-1.37c-.4-.4-.92-.59-1.43-.59-.52 0-1.04.2-1.43.59L10.3 9.45l-7.72 7.72c-.78.78-.78 2.05 0 2.83L4 21.41c.39.39.9.59 1.41.59.51 0 1.02-.2 1.41-.59l7.78-7.78 2.81-2.81c.8-.78.8-2.07 0-2.86zM5.41 20L4 18.59l7.72-7.72 1.47 1.35L5.41 20z\"/>\n",
              "  </svg>\n",
              "      </button>\n",
              "      \n",
              "  <style>\n",
              "    .colab-df-container {\n",
              "      display:flex;\n",
              "      flex-wrap:wrap;\n",
              "      gap: 12px;\n",
              "    }\n",
              "\n",
              "    .colab-df-convert {\n",
              "      background-color: #E8F0FE;\n",
              "      border: none;\n",
              "      border-radius: 50%;\n",
              "      cursor: pointer;\n",
              "      display: none;\n",
              "      fill: #1967D2;\n",
              "      height: 32px;\n",
              "      padding: 0 0 0 0;\n",
              "      width: 32px;\n",
              "    }\n",
              "\n",
              "    .colab-df-convert:hover {\n",
              "      background-color: #E2EBFA;\n",
              "      box-shadow: 0px 1px 2px rgba(60, 64, 67, 0.3), 0px 1px 3px 1px rgba(60, 64, 67, 0.15);\n",
              "      fill: #174EA6;\n",
              "    }\n",
              "\n",
              "    [theme=dark] .colab-df-convert {\n",
              "      background-color: #3B4455;\n",
              "      fill: #D2E3FC;\n",
              "    }\n",
              "\n",
              "    [theme=dark] .colab-df-convert:hover {\n",
              "      background-color: #434B5C;\n",
              "      box-shadow: 0px 1px 3px 1px rgba(0, 0, 0, 0.15);\n",
              "      filter: drop-shadow(0px 1px 2px rgba(0, 0, 0, 0.3));\n",
              "      fill: #FFFFFF;\n",
              "    }\n",
              "  </style>\n",
              "\n",
              "      <script>\n",
              "        const buttonEl =\n",
              "          document.querySelector('#df-dd8c8674-d475-4ab6-8e03-0cc20e3cba5e button.colab-df-convert');\n",
              "        buttonEl.style.display =\n",
              "          google.colab.kernel.accessAllowed ? 'block' : 'none';\n",
              "\n",
              "        async function convertToInteractive(key) {\n",
              "          const element = document.querySelector('#df-dd8c8674-d475-4ab6-8e03-0cc20e3cba5e');\n",
              "          const dataTable =\n",
              "            await google.colab.kernel.invokeFunction('convertToInteractive',\n",
              "                                                     [key], {});\n",
              "          if (!dataTable) return;\n",
              "\n",
              "          const docLinkHtml = 'Like what you see? Visit the ' +\n",
              "            '<a target=\"_blank\" href=https://colab.research.google.com/notebooks/data_table.ipynb>data table notebook</a>'\n",
              "            + ' to learn more about interactive tables.';\n",
              "          element.innerHTML = '';\n",
              "          dataTable['output_type'] = 'display_data';\n",
              "          await google.colab.output.renderOutput(dataTable, element);\n",
              "          const docLink = document.createElement('div');\n",
              "          docLink.innerHTML = docLinkHtml;\n",
              "          element.appendChild(docLink);\n",
              "        }\n",
              "      </script>\n",
              "    </div>\n",
              "  </div>\n",
              "  "
            ]
          },
          "metadata": {},
          "execution_count": 11
        }
      ]
    },
    {
      "cell_type": "code",
      "source": [
        "df_Wyder = df[df['Wyder'] == 1 ]"
      ],
      "metadata": {
        "id": "I8zdYzo-vtv9"
      },
      "execution_count": 12,
      "outputs": []
    },
    {
      "cell_type": "code",
      "source": [
        "from numpy.ma.core import size\n",
        "for i in range(len(Wyder_centers)):\n",
        "  circle1 = plt.Circle((Wyder_centers.loc[Wyder_centers.index[i],'RA'], Wyder_centers.loc[Wyder_centers.index[i],'Dec']), 0.023, color='r',alpha = 0.2)\n",
        "  plt.gca().add_patch(circle1)\n",
        "plt.scatter(df_Wyder['Ra(J2000) deg'],df_Wyder['Dec(J2000) deg'],marker='.')\n",
        "plt.gca().invert_xaxis()"
      ],
      "metadata": {
        "colab": {
          "base_uri": "https://localhost:8080/",
          "height": 0
        },
        "id": "wPDC6n3maJd1",
        "outputId": "01690422-b222-438c-ca51-3ff074be6356"
      },
      "execution_count": 13,
      "outputs": [
        {
          "output_type": "display_data",
          "data": {
            "text/plain": [
              "<Figure size 640x480 with 1 Axes>"
            ],
            "image/png": "[encoded data removed]"
          },
          "metadata": {}
        }
      ]
    },
    {
      "cell_type": "markdown",
      "source": [
        "# Bulge ( a = 3.85 arcmin = 0.06416667 degree, b = 5 arcmin = 0.0833333 degree )"
      ],
      "metadata": {
        "id": "oVhNbvJMY_dL"
      }
    },
    {
      "cell_type": "code",
      "source": [
        "df['Bulge'] = 0\n",
        "a = 0.06416667\n",
        "b = 0.0833333\n",
        "for i in range(len(df)):\n",
        "  x_star = df.loc[i,'Ra(J2000) deg'] - Ra_center\n",
        "  y_star = df.loc[i,'Dec(J2000) deg'] - Dec_center\n",
        "  if x_star < a :\n",
        "    y = Ellipse(x_star,a,b)\n",
        "    if abs(y_star) < y :\n",
        "      df.loc[i,'Bulge'] = int(1)"
      ],
      "metadata": {
        "colab": {
          "base_uri": "https://localhost:8080/"
        },
        "outputId": "54b4912c-54d3-446e-c8b5-f1ab6ae9920a",
        "id": "dWdMGkbkY_dN"
      },
      "execution_count": 14,
      "outputs": [
        {
          "output_type": "stream",
          "name": "stderr",
          "text": [
            "<ipython-input-4-3d3079c4fa86>:6: RuntimeWarning: invalid value encountered in double_scalars\n",
            "  y = b * ((1 - ((x/a)**2) )**0.5)\n"
          ]
        }
      ]
    },
    {
      "cell_type": "code",
      "source": [
        "df_bulge = df[df['Bulge'] == 1 ]"
      ],
      "metadata": {
        "id": "Bf0euyDqY_dP"
      },
      "execution_count": 15,
      "outputs": []
    },
    {
      "cell_type": "code",
      "source": [
        "from numpy.ma.core import size\n",
        "xx = np.arange(-a,a,0.001)\n",
        "plt.plot(xx + Ra_center ,  (Ellipse(xx,a,b) + Dec_center ), c = 'k', alpha = 0.8)\n",
        "plt.plot(xx + Ra_center , - (Ellipse(xx,a,b) - Dec_center ), c = 'k', alpha = 0.8)\n",
        "plt.scatter(df['Ra(J2000) deg'],df['Dec(J2000) deg'],marker='.')\n",
        "plt.scatter(df_bulge['Ra(J2000) deg'],df_bulge['Dec(J2000) deg'],marker='.')\n",
        "\n",
        "#plt.scatter(Wyder_centers['RA'],Wyder_centers['Dec'])\n",
        "plt.gca().invert_xaxis()"
      ],
      "metadata": {
        "colab": {
          "base_uri": "https://localhost:8080/",
          "height": 0
        },
        "outputId": "34f4b522-6e1b-4b9f-87d8-028378dfd398",
        "id": "g4hygzQeY_dQ"
      },
      "execution_count": 16,
      "outputs": [
        {
          "output_type": "display_data",
          "data": {
            "text/plain": [
              "<Figure size 640x480 with 1 Axes>"
            ],
            "image/png": "[encoded data removed]"
          },
          "metadata": {}
        }
      ]
    },
    {
      "cell_type": "markdown",
      "source": [
        "# Bulge _ Optical Body Radius  ( Ellipse < R < 1.4 Kpc ) "
      ],
      "metadata": {
        "id": "qzim-ZYpVawy"
      }
    },
    {
      "cell_type": "code",
      "source": [
        "body_degree = math.degrees( R_body / Distance )\n",
        "print(body_degree)"
      ],
      "metadata": {
        "colab": {
          "base_uri": "https://localhost:8080/"
        },
        "id": "oO7OSCqyXr1y",
        "outputId": "ec8f67a8-d686-4198-a3ab-c444e467d42a"
      },
      "execution_count": 17,
      "outputs": [
        {
          "output_type": "stream",
          "name": "stdout",
          "text": [
            "0.1604281826366305\n"
          ]
        }
      ]
    },
    {
      "cell_type": "code",
      "source": [
        "df['Body'] = 0\n",
        "a = 0.06416667\n",
        "b = 0.0833333\n",
        "for i in range(len(df)):\n",
        "  if df.loc[i,'Bulge'] < 1 and df.loc[i,'DCG'] < body_degree :\n",
        "    df.loc[i,'Body'] = int(1)"
      ],
      "metadata": {
        "id": "7y-PzGTlWNJ_"
      },
      "execution_count": 18,
      "outputs": []
    },
    {
      "cell_type": "code",
      "source": [
        "df_body = df[df['Body'] == 1 ]"
      ],
      "metadata": {
        "id": "h-PbM2oXWNKA"
      },
      "execution_count": 19,
      "outputs": []
    },
    {
      "cell_type": "code",
      "source": [
        "from numpy.ma.core import size\n",
        "xx = np.arange(-a,a,0.001)\n",
        "plt.plot(xx + Ra_center ,  (Ellipse(xx,a,b) + Dec_center ), c = 'k', alpha = 0.8)\n",
        "plt.plot(xx + Ra_center , - (Ellipse(xx,a,b) - Dec_center ), c = 'k', alpha = 0.8)\n",
        "\n",
        "xxx = np.arange(-body_degree,body_degree,0.001)\n",
        "plt.plot(xxx + Ra_center ,   (body_degree**2 - xxx**2)**0.5 + Dec_center , c = 'k', alpha = 0.8)\n",
        "plt.plot(xxx + Ra_center , - (body_degree**2 - xxx**2)**0.5 + Dec_center , c = 'k', alpha = 0.8)\n",
        "\n",
        "plt.scatter(df['Ra(J2000) deg'],df['Dec(J2000) deg'],marker='.')\n",
        "plt.scatter(df_body['Ra(J2000) deg'],df_body['Dec(J2000) deg'],marker='.')\n",
        "\n",
        "#plt.scatter(Wyder_centers['RA'],Wyder_centers['Dec'])\n",
        "plt.gca().invert_xaxis()"
      ],
      "metadata": {
        "colab": {
          "base_uri": "https://localhost:8080/",
          "height": 0
        },
        "id": "jtzF6jMzX81A",
        "outputId": "82daa58c-70d1-41cc-fe32-acb74e3f2f91"
      },
      "execution_count": 20,
      "outputs": [
        {
          "output_type": "display_data",
          "data": {
            "text/plain": [
              "<Figure size 640x480 with 1 Axes>"
            ],
            "image/png": "[encoded data removed]"
          },
          "metadata": {}
        }
      ]
    },
    {
      "cell_type": "markdown",
      "source": [
        "# Saving Data"
      ],
      "metadata": {
        "id": "-Ij1gZsseiCp"
      }
    },
    {
      "cell_type": "code",
      "source": [
        "df_loc =df.loc[::,['Ra(J2000) deg','Dec(J2000) deg','Wyder','Bulge','Body']]"
      ],
      "metadata": {
        "id": "R-cvBR0WehRt"
      },
      "execution_count": 34,
      "outputs": []
    },
    {
      "cell_type": "code",
      "source": [
        "df_loc"
      ],
      "metadata": {
        "colab": {
          "base_uri": "https://localhost:8080/",
          "height": 423
        },
        "id": "wLO4Rdchp4Ok",
        "outputId": "1fb212cb-b2e7-422b-b108-860bf5cd3a4c"
      },
      "execution_count": 40,
      "outputs": [
        {
          "output_type": "execute_result",
          "data": {
            "text/plain": [
              "     Ra(J2000) deg  Dec(J2000) deg  Wyder  Bulge  Body\n",
              "0       296.178920      -14.822860      0      1     0\n",
              "1       296.215450      -14.834690      1      1     0\n",
              "2       296.273410      -14.808610      0      1     0\n",
              "3       296.283080      -14.804970      0      1     0\n",
              "4       296.254270      -14.817640      1      1     0\n",
              "..             ...             ...    ...    ...   ...\n",
              "372     296.003693      -14.974893      0      0     0\n",
              "373     296.226960      -14.801910      1      1     0\n",
              "374     296.240050      -14.807960      1      1     0\n",
              "375     296.208160      -14.726160      0      1     0\n",
              "376     296.243010      -14.746520      1      1     0\n",
              "\n",
              "[377 rows x 5 columns]"
            ],
            "text/html": [
              "\n",
              "  <div id=\"df-022eb374-0607-45bc-a522-6ad9b13855b1\">\n",
              "    <div class=\"colab-df-container\">\n",
              "      <div>\n",
              "<style scoped>\n",
              "    .dataframe tbody tr th:only-of-type {\n",
              "        vertical-align: middle;\n",
              "    }\n",
              "\n",
              "    .dataframe tbody tr th {\n",
              "        vertical-align: top;\n",
              "    }\n",
              "\n",
              "    .dataframe thead th {\n",
              "        text-align: right;\n",
              "    }\n",
              "</style>\n",
              "<table border=\"1\" class=\"dataframe\">\n",
              "  <thead>\n",
              "    <tr style=\"text-align: right;\">\n",
              "      <th></th>\n",
              "      <th>Ra(J2000) deg</th>\n",
              "      <th>Dec(J2000) deg</th>\n",
              "      <th>Wyder</th>\n",
              "      <th>Bulge</th>\n",
              "      <th>Body</th>\n",
              "    </tr>\n",
              "  </thead>\n",
              "  <tbody>\n",
              "    <tr>\n",
              "      <th>0</th>\n",
              "      <td>296.178920</td>\n",
              "      <td>-14.822860</td>\n",
              "      <td>0</td>\n",
              "      <td>1</td>\n",
              "      <td>0</td>\n",
              "    </tr>\n",
              "    <tr>\n",
              "      <th>1</th>\n",
              "      <td>296.215450</td>\n",
              "      <td>-14.834690</td>\n",
              "      <td>1</td>\n",
              "      <td>1</td>\n",
              "      <td>0</td>\n",
              "    </tr>\n",
              "    <tr>\n",
              "      <th>2</th>\n",
              "      <td>296.273410</td>\n",
              "      <td>-14.808610</td>\n",
              "      <td>0</td>\n",
              "      <td>1</td>\n",
              "      <td>0</td>\n",
              "    </tr>\n",
              "    <tr>\n",
              "      <th>3</th>\n",
              "      <td>296.283080</td>\n",
              "      <td>-14.804970</td>\n",
              "      <td>0</td>\n",
              "      <td>1</td>\n",
              "      <td>0</td>\n",
              "    </tr>\n",
              "    <tr>\n",
              "      <th>4</th>\n",
              "      <td>296.254270</td>\n",
              "      <td>-14.817640</td>\n",
              "      <td>1</td>\n",
              "      <td>1</td>\n",
              "      <td>0</td>\n",
              "    </tr>\n",
              "    <tr>\n",
              "      <th>...</th>\n",
              "      <td>...</td>\n",
              "      <td>...</td>\n",
              "      <td>...</td>\n",
              "      <td>...</td>\n",
              "      <td>...</td>\n",
              "    </tr>\n",
              "    <tr>\n",
              "      <th>372</th>\n",
              "      <td>296.003693</td>\n",
              "      <td>-14.974893</td>\n",
              "      <td>0</td>\n",
              "      <td>0</td>\n",
              "      <td>0</td>\n",
              "    </tr>\n",
              "    <tr>\n",
              "      <th>373</th>\n",
              "      <td>296.226960</td>\n",
              "      <td>-14.801910</td>\n",
              "      <td>1</td>\n",
              "      <td>1</td>\n",
              "      <td>0</td>\n",
              "    </tr>\n",
              "    <tr>\n",
              "      <th>374</th>\n",
              "      <td>296.240050</td>\n",
              "      <td>-14.807960</td>\n",
              "      <td>1</td>\n",
              "      <td>1</td>\n",
              "      <td>0</td>\n",
              "    </tr>\n",
              "    <tr>\n",
              "      <th>375</th>\n",
              "      <td>296.208160</td>\n",
              "      <td>-14.726160</td>\n",
              "      <td>0</td>\n",
              "      <td>1</td>\n",
              "      <td>0</td>\n",
              "    </tr>\n",
              "    <tr>\n",
              "      <th>376</th>\n",
              "      <td>296.243010</td>\n",
              "      <td>-14.746520</td>\n",
              "      <td>1</td>\n",
              "      <td>1</td>\n",
              "      <td>0</td>\n",
              "    </tr>\n",
              "  </tbody>\n",
              "</table>\n",
              "<p>377 rows × 5 columns</p>\n",
              "</div>\n",
              "      <button class=\"colab-df-convert\" onclick=\"convertToInteractive('df-022eb374-0607-45bc-a522-6ad9b13855b1')\"\n",
              "              title=\"Convert this dataframe to an interactive table.\"\n",
              "              style=\"display:none;\">\n",
              "        \n",
              "  <svg xmlns=\"http://www.w3.org/2000/svg\" height=\"24px\"viewBox=\"0 0 24 24\"\n",
              "       width=\"24px\">\n",
              "    <path d=\"M0 0h24v24H0V0z\" fill=\"none\"/>\n",
              "    <path d=\"M18.56 5.44l.94 2.06.94-2.06 2.06-.94-2.06-.94-.94-2.06-.94 2.06-2.06.94zm-11 1L8.5 8.5l.94-2.06 2.06-.94-2.06-.94L8.5 2.5l-.94 2.06-2.06.94zm10 10l.94 2.06.94-2.06 2.06-.94-2.06-.94-.94-2.06-.94 2.06-2.06.94z\"/><path d=\"M17.41 7.96l-1.37-1.37c-.4-.4-.92-.59-1.43-.59-.52 0-1.04.2-1.43.59L10.3 9.45l-7.72 7.72c-.78.78-.78 2.05 0 2.83L4 21.41c.39.39.9.59 1.41.59.51 0 1.02-.2 1.41-.59l7.78-7.78 2.81-2.81c.8-.78.8-2.07 0-2.86zM5.41 20L4 18.59l7.72-7.72 1.47 1.35L5.41 20z\"/>\n",
              "  </svg>\n",
              "      </button>\n",
              "      \n",
              "  <style>\n",
              "    .colab-df-container {\n",
              "      display:flex;\n",
              "      flex-wrap:wrap;\n",
              "      gap: 12px;\n",
              "    }\n",
              "\n",
              "    .colab-df-convert {\n",
              "      background-color: #E8F0FE;\n",
              "      border: none;\n",
              "      border-radius: 50%;\n",
              "      cursor: pointer;\n",
              "      display: none;\n",
              "      fill: #1967D2;\n",
              "      height: 32px;\n",
              "      padding: 0 0 0 0;\n",
              "      width: 32px;\n",
              "    }\n",
              "\n",
              "    .colab-df-convert:hover {\n",
              "      background-color: #E2EBFA;\n",
              "      box-shadow: 0px 1px 2px rgba(60, 64, 67, 0.3), 0px 1px 3px 1px rgba(60, 64, 67, 0.15);\n",
              "      fill: #174EA6;\n",
              "    }\n",
              "\n",
              "    [theme=dark] .colab-df-convert {\n",
              "      background-color: #3B4455;\n",
              "      fill: #D2E3FC;\n",
              "    }\n",
              "\n",
              "    [theme=dark] .colab-df-convert:hover {\n",
              "      background-color: #434B5C;\n",
              "      box-shadow: 0px 1px 3px 1px rgba(0, 0, 0, 0.15);\n",
              "      filter: drop-shadow(0px 1px 2px rgba(0, 0, 0, 0.3));\n",
              "      fill: #FFFFFF;\n",
              "    }\n",
              "  </style>\n",
              "\n",
              "      <script>\n",
              "        const buttonEl =\n",
              "          document.querySelector('#df-022eb374-0607-45bc-a522-6ad9b13855b1 button.colab-df-convert');\n",
              "        buttonEl.style.display =\n",
              "          google.colab.kernel.accessAllowed ? 'block' : 'none';\n",
              "\n",
              "        async function convertToInteractive(key) {\n",
              "          const element = document.querySelector('#df-022eb374-0607-45bc-a522-6ad9b13855b1');\n",
              "          const dataTable =\n",
              "            await google.colab.kernel.invokeFunction('convertToInteractive',\n",
              "                                                     [key], {});\n",
              "          if (!dataTable) return;\n",
              "\n",
              "          const docLinkHtml = 'Like what you see? Visit the ' +\n",
              "            '<a target=\"_blank\" href=https://colab.research.google.com/notebooks/data_table.ipynb>data table notebook</a>'\n",
              "            + ' to learn more about interactive tables.';\n",
              "          element.innerHTML = '';\n",
              "          dataTable['output_type'] = 'display_data';\n",
              "          await google.colab.output.renderOutput(dataTable, element);\n",
              "          const docLink = document.createElement('div');\n",
              "          docLink.innerHTML = docLinkHtml;\n",
              "          element.appendChild(docLink);\n",
              "        }\n",
              "      </script>\n",
              "    </div>\n",
              "  </div>\n",
              "  "
            ]
          },
          "metadata": {},
          "execution_count": 40
        }
      ]
    },
    {
      "cell_type": "code",
      "source": [
        "df_loc.to_csv('Data_location.csv')"
      ],
      "metadata": {
        "id": "i-6OTVA4h_5z"
      },
      "execution_count": 38,
      "outputs": []
    }
  ]
}