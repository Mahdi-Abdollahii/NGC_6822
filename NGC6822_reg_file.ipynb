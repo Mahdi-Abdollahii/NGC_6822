{
  "nbformat": 4,
  "nbformat_minor": 0,
  "metadata": {
    "colab": {
      "provenance": [],
      "authorship_tag": "ABX9TyPUMZvt7B/wlutb/vjM8WUX",
      "include_colab_link": true
    },
    "kernelspec": {
      "name": "python3",
      "display_name": "Python 3"
    },
    "language_info": {
      "name": "python"
    }
  },
  "cells": [
    {
      "cell_type": "markdown",
      "metadata": {
        "id": "view-in-github",
        "colab_type": "text"
      },
      "source": [
        "<a href=\"https://colab.research.google.com/github/Mahdi-Abdollahii/NGC_6822/blob/main/NGC6822_reg_file.ipynb\" target=\"_parent\"><img src=\"https://colab.research.google.com/assets/colab-badge.svg\" alt=\"Open In Colab\"/></a>"
      ]
    },
    {
      "cell_type": "code",
      "execution_count": 7,
      "metadata": {
        "colab": {
          "base_uri": "https://localhost:8080/"
        },
        "id": "pzoTvbka1z4t",
        "outputId": "19581783-bcab-49b8-f8e6-c5f7f23bc8c8"
      },
      "outputs": [
        {
          "output_type": "stream",
          "name": "stdout",
          "text": [
            "Cloning into 'NGC_6822'...\n",
            "remote: Enumerating objects: 1630, done.\u001b[K\n",
            "remote: Counting objects: 100% (542/542), done.\u001b[K\n",
            "remote: Compressing objects: 100% (329/329), done.\u001b[K\n",
            "remote: Total 1630 (delta 286), reused 372 (delta 212), pack-reused 1088\u001b[K\n",
            "Receiving objects: 100% (1630/1630), 119.04 MiB | 15.52 MiB/s, done.\n",
            "Resolving deltas: 100% (809/809), done.\n",
            "Updating files: 100% (169/169), done.\n"
          ]
        }
      ],
      "source": [
        "!git clone https://github.com/Mahdi-Abdollahii/NGC_6822.git"
      ]
    },
    {
      "cell_type": "code",
      "source": [
        "!git clone https://github.com/Mahdi-Abdollahii/AstroDC.git"
      ],
      "metadata": {
        "colab": {
          "base_uri": "https://localhost:8080/"
        },
        "id": "os8MJ_VH2AP8",
        "outputId": "37b12e62-dea3-4bf8-9992-fdc7d79a3e7b"
      },
      "execution_count": 1,
      "outputs": [
        {
          "output_type": "stream",
          "name": "stdout",
          "text": [
            "Cloning into 'AstroDC'...\n",
            "remote: Enumerating objects: 324, done.\u001b[K\n",
            "remote: Counting objects: 100% (189/189), done.\u001b[K\n",
            "remote: Compressing objects: 100% (125/125), done.\u001b[K\n",
            "remote: Total 324 (delta 74), reused 128 (delta 50), pack-reused 135\u001b[K\n",
            "Receiving objects: 100% (324/324), 7.51 MiB | 11.05 MiB/s, done.\n",
            "Resolving deltas: 100% (133/133), done.\n"
          ]
        }
      ]
    },
    {
      "cell_type": "code",
      "source": [
        "pip install git+https://github.com/Mahdi-Abdollahii/AstroDC.git"
      ],
      "metadata": {
        "colab": {
          "base_uri": "https://localhost:8080/"
        },
        "id": "Tss952dx2N78",
        "outputId": "9e0d13c0-1187-43b0-dec3-bd1cda3e4707"
      },
      "execution_count": 2,
      "outputs": [
        {
          "output_type": "stream",
          "name": "stdout",
          "text": [
            "Collecting git+https://github.com/Mahdi-Abdollahii/AstroDC.git\n",
            "  Cloning https://github.com/Mahdi-Abdollahii/AstroDC.git to /tmp/pip-req-build-dtm98ern\n",
            "  Running command git clone --filter=blob:none --quiet https://github.com/Mahdi-Abdollahii/AstroDC.git /tmp/pip-req-build-dtm98ern\n",
            "  Resolved https://github.com/Mahdi-Abdollahii/AstroDC.git to commit 6d94723b263b5b088791d07a5a66e931e24dde07\n",
            "  Preparing metadata (setup.py) ... \u001b[?25l\u001b[?25hdone\n",
            "Building wheels for collected packages: AstroDC\n",
            "  Building wheel for AstroDC (setup.py) ... \u001b[?25l\u001b[?25hdone\n",
            "  Created wheel for AstroDC: filename=AstroDC-1.0.5-py3-none-any.whl size=2586 sha256=249e8e56b11c591d293c63ed82b4ac7ac02a6bac86577add76e3d03e83ea3778\n",
            "  Stored in directory: /tmp/pip-ephem-wheel-cache-5bm7hb90/wheels/82/b8/db/4179fef6fc03770dd498d786816b5f961dce1b9a70bd9499cd\n",
            "Successfully built AstroDC\n",
            "Installing collected packages: AstroDC\n",
            "Successfully installed AstroDC-1.0.5\n"
          ]
        }
      ]
    },
    {
      "cell_type": "code",
      "source": [
        "import numpy as np\n",
        "import pandas as pd\n",
        "from AstroDC import AstroDC as ADC\n",
        "from astropy import units"
      ],
      "metadata": {
        "id": "ufhCPu5m2aY9"
      },
      "execution_count": 3,
      "outputs": []
    },
    {
      "cell_type": "code",
      "source": [
        "file_address = '/content/NGC_6822/Data_V3/Final_cleaned_data_v3.csv'\n",
        "df = pd.read_csv(file_address)\n",
        "df = df.fillna(89.99)"
      ],
      "metadata": {
        "id": "c2aMgXsJ2QDO"
      },
      "execution_count": 9,
      "outputs": []
    },
    {
      "cell_type": "code",
      "source": [
        "Ra_center = 296.23 #degree\n",
        "Dec_center = -14.80167 #degree"
      ],
      "metadata": {
        "id": "ZtiVPo9zwJaR"
      },
      "execution_count": 17,
      "outputs": []
    },
    {
      "cell_type": "code",
      "source": [
        "df"
      ],
      "metadata": {
        "colab": {
          "base_uri": "https://localhost:8080/",
          "height": 423
        },
        "id": "kaq_evK82yq9",
        "outputId": "f65bb644-b406-4939-f46d-cf9b7ffd8316"
      },
      "execution_count": 10,
      "outputs": [
        {
          "output_type": "execute_result",
          "data": {
            "text/plain": [
              "     Ra(J2000) deg  Dec(J2000) deg       J       H      Ks     Types  \\\n",
              "0       296.183980      -14.780180  18.230  17.510  17.120         O   \n",
              "1       296.252290      -14.784750  17.490  16.540  16.080         O   \n",
              "2       296.204150      -14.634860  16.580  15.910  15.460         O   \n",
              "3       296.223640      -14.774730  16.440  15.580  15.130         O   \n",
              "4       296.218160      -14.880350  16.300  15.530  15.090         O   \n",
              "..             ...             ...     ...     ...     ...       ...   \n",
              "324     296.044067      -14.905341  18.504  17.750  17.381  C5.5       \n",
              "325     296.003693      -14.974893  18.392  17.560  17.210  C5.5       \n",
              "326     295.993561      -14.990264  17.874  16.702  15.840  C6.5       \n",
              "327     296.020050      -15.036669  17.751  17.008  16.689  C8.2       \n",
              "328     296.021637      -15.045016  17.040  16.282  16.056  C5.5       \n",
              "\n",
              "           Ref       R  \n",
              "0    Whitelock  89.990  \n",
              "1    Whitelock  89.990  \n",
              "2    Whitelock  89.990  \n",
              "3    Whitelock  89.990  \n",
              "4    Whitelock  89.990  \n",
              "..         ...     ...  \n",
              "324   Kacharov  20.697  \n",
              "325   Kacharov  20.379  \n",
              "326   Kacharov  19.735  \n",
              "327   Kacharov  19.639  \n",
              "328   Kacharov  19.021  \n",
              "\n",
              "[329 rows x 8 columns]"
            ],
            "text/html": [
              "\n",
              "  <div id=\"df-71829eff-f84c-43be-9417-a6784ab7516e\" class=\"colab-df-container\">\n",
              "    <div>\n",
              "<style scoped>\n",
              "    .dataframe tbody tr th:only-of-type {\n",
              "        vertical-align: middle;\n",
              "    }\n",
              "\n",
              "    .dataframe tbody tr th {\n",
              "        vertical-align: top;\n",
              "    }\n",
              "\n",
              "    .dataframe thead th {\n",
              "        text-align: right;\n",
              "    }\n",
              "</style>\n",
              "<table border=\"1\" class=\"dataframe\">\n",
              "  <thead>\n",
              "    <tr style=\"text-align: right;\">\n",
              "      <th></th>\n",
              "      <th>Ra(J2000) deg</th>\n",
              "      <th>Dec(J2000) deg</th>\n",
              "      <th>J</th>\n",
              "      <th>H</th>\n",
              "      <th>Ks</th>\n",
              "      <th>Types</th>\n",
              "      <th>Ref</th>\n",
              "      <th>R</th>\n",
              "    </tr>\n",
              "  </thead>\n",
              "  <tbody>\n",
              "    <tr>\n",
              "      <th>0</th>\n",
              "      <td>296.183980</td>\n",
              "      <td>-14.780180</td>\n",
              "      <td>18.230</td>\n",
              "      <td>17.510</td>\n",
              "      <td>17.120</td>\n",
              "      <td>O</td>\n",
              "      <td>Whitelock</td>\n",
              "      <td>89.990</td>\n",
              "    </tr>\n",
              "    <tr>\n",
              "      <th>1</th>\n",
              "      <td>296.252290</td>\n",
              "      <td>-14.784750</td>\n",
              "      <td>17.490</td>\n",
              "      <td>16.540</td>\n",
              "      <td>16.080</td>\n",
              "      <td>O</td>\n",
              "      <td>Whitelock</td>\n",
              "      <td>89.990</td>\n",
              "    </tr>\n",
              "    <tr>\n",
              "      <th>2</th>\n",
              "      <td>296.204150</td>\n",
              "      <td>-14.634860</td>\n",
              "      <td>16.580</td>\n",
              "      <td>15.910</td>\n",
              "      <td>15.460</td>\n",
              "      <td>O</td>\n",
              "      <td>Whitelock</td>\n",
              "      <td>89.990</td>\n",
              "    </tr>\n",
              "    <tr>\n",
              "      <th>3</th>\n",
              "      <td>296.223640</td>\n",
              "      <td>-14.774730</td>\n",
              "      <td>16.440</td>\n",
              "      <td>15.580</td>\n",
              "      <td>15.130</td>\n",
              "      <td>O</td>\n",
              "      <td>Whitelock</td>\n",
              "      <td>89.990</td>\n",
              "    </tr>\n",
              "    <tr>\n",
              "      <th>4</th>\n",
              "      <td>296.218160</td>\n",
              "      <td>-14.880350</td>\n",
              "      <td>16.300</td>\n",
              "      <td>15.530</td>\n",
              "      <td>15.090</td>\n",
              "      <td>O</td>\n",
              "      <td>Whitelock</td>\n",
              "      <td>89.990</td>\n",
              "    </tr>\n",
              "    <tr>\n",
              "      <th>...</th>\n",
              "      <td>...</td>\n",
              "      <td>...</td>\n",
              "      <td>...</td>\n",
              "      <td>...</td>\n",
              "      <td>...</td>\n",
              "      <td>...</td>\n",
              "      <td>...</td>\n",
              "      <td>...</td>\n",
              "    </tr>\n",
              "    <tr>\n",
              "      <th>324</th>\n",
              "      <td>296.044067</td>\n",
              "      <td>-14.905341</td>\n",
              "      <td>18.504</td>\n",
              "      <td>17.750</td>\n",
              "      <td>17.381</td>\n",
              "      <td>C5.5</td>\n",
              "      <td>Kacharov</td>\n",
              "      <td>20.697</td>\n",
              "    </tr>\n",
              "    <tr>\n",
              "      <th>325</th>\n",
              "      <td>296.003693</td>\n",
              "      <td>-14.974893</td>\n",
              "      <td>18.392</td>\n",
              "      <td>17.560</td>\n",
              "      <td>17.210</td>\n",
              "      <td>C5.5</td>\n",
              "      <td>Kacharov</td>\n",
              "      <td>20.379</td>\n",
              "    </tr>\n",
              "    <tr>\n",
              "      <th>326</th>\n",
              "      <td>295.993561</td>\n",
              "      <td>-14.990264</td>\n",
              "      <td>17.874</td>\n",
              "      <td>16.702</td>\n",
              "      <td>15.840</td>\n",
              "      <td>C6.5</td>\n",
              "      <td>Kacharov</td>\n",
              "      <td>19.735</td>\n",
              "    </tr>\n",
              "    <tr>\n",
              "      <th>327</th>\n",
              "      <td>296.020050</td>\n",
              "      <td>-15.036669</td>\n",
              "      <td>17.751</td>\n",
              "      <td>17.008</td>\n",
              "      <td>16.689</td>\n",
              "      <td>C8.2</td>\n",
              "      <td>Kacharov</td>\n",
              "      <td>19.639</td>\n",
              "    </tr>\n",
              "    <tr>\n",
              "      <th>328</th>\n",
              "      <td>296.021637</td>\n",
              "      <td>-15.045016</td>\n",
              "      <td>17.040</td>\n",
              "      <td>16.282</td>\n",
              "      <td>16.056</td>\n",
              "      <td>C5.5</td>\n",
              "      <td>Kacharov</td>\n",
              "      <td>19.021</td>\n",
              "    </tr>\n",
              "  </tbody>\n",
              "</table>\n",
              "<p>329 rows × 8 columns</p>\n",
              "</div>\n",
              "    <div class=\"colab-df-buttons\">\n",
              "\n",
              "  <div class=\"colab-df-container\">\n",
              "    <button class=\"colab-df-convert\" onclick=\"convertToInteractive('df-71829eff-f84c-43be-9417-a6784ab7516e')\"\n",
              "            title=\"Convert this dataframe to an interactive table.\"\n",
              "            style=\"display:none;\">\n",
              "\n",
              "  <svg xmlns=\"http://www.w3.org/2000/svg\" height=\"24px\" viewBox=\"0 -960 960 960\">\n",
              "    <path d=\"M120-120v-720h720v720H120Zm60-500h600v-160H180v160Zm220 220h160v-160H400v160Zm0 220h160v-160H400v160ZM180-400h160v-160H180v160Zm440 0h160v-160H620v160ZM180-180h160v-160H180v160Zm440 0h160v-160H620v160Z\"/>\n",
              "  </svg>\n",
              "    </button>\n",
              "\n",
              "  <style>\n",
              "    .colab-df-container {\n",
              "      display:flex;\n",
              "      gap: 12px;\n",
              "    }\n",
              "\n",
              "    .colab-df-convert {\n",
              "      background-color: #E8F0FE;\n",
              "      border: none;\n",
              "      border-radius: 50%;\n",
              "      cursor: pointer;\n",
              "      display: none;\n",
              "      fill: #1967D2;\n",
              "      height: 32px;\n",
              "      padding: 0 0 0 0;\n",
              "      width: 32px;\n",
              "    }\n",
              "\n",
              "    .colab-df-convert:hover {\n",
              "      background-color: #E2EBFA;\n",
              "      box-shadow: 0px 1px 2px rgba(60, 64, 67, 0.3), 0px 1px 3px 1px rgba(60, 64, 67, 0.15);\n",
              "      fill: #174EA6;\n",
              "    }\n",
              "\n",
              "    .colab-df-buttons div {\n",
              "      margin-bottom: 4px;\n",
              "    }\n",
              "\n",
              "    [theme=dark] .colab-df-convert {\n",
              "      background-color: #3B4455;\n",
              "      fill: #D2E3FC;\n",
              "    }\n",
              "\n",
              "    [theme=dark] .colab-df-convert:hover {\n",
              "      background-color: #434B5C;\n",
              "      box-shadow: 0px 1px 3px 1px rgba(0, 0, 0, 0.15);\n",
              "      filter: drop-shadow(0px 1px 2px rgba(0, 0, 0, 0.3));\n",
              "      fill: #FFFFFF;\n",
              "    }\n",
              "  </style>\n",
              "\n",
              "    <script>\n",
              "      const buttonEl =\n",
              "        document.querySelector('#df-71829eff-f84c-43be-9417-a6784ab7516e button.colab-df-convert');\n",
              "      buttonEl.style.display =\n",
              "        google.colab.kernel.accessAllowed ? 'block' : 'none';\n",
              "\n",
              "      async function convertToInteractive(key) {\n",
              "        const element = document.querySelector('#df-71829eff-f84c-43be-9417-a6784ab7516e');\n",
              "        const dataTable =\n",
              "          await google.colab.kernel.invokeFunction('convertToInteractive',\n",
              "                                                    [key], {});\n",
              "        if (!dataTable) return;\n",
              "\n",
              "        const docLinkHtml = 'Like what you see? Visit the ' +\n",
              "          '<a target=\"_blank\" href=https://colab.research.google.com/notebooks/data_table.ipynb>data table notebook</a>'\n",
              "          + ' to learn more about interactive tables.';\n",
              "        element.innerHTML = '';\n",
              "        dataTable['output_type'] = 'display_data';\n",
              "        await google.colab.output.renderOutput(dataTable, element);\n",
              "        const docLink = document.createElement('div');\n",
              "        docLink.innerHTML = docLinkHtml;\n",
              "        element.appendChild(docLink);\n",
              "      }\n",
              "    </script>\n",
              "  </div>\n",
              "\n",
              "\n",
              "<div id=\"df-121e3f0e-e771-404b-9773-417d3e04a940\">\n",
              "  <button class=\"colab-df-quickchart\" onclick=\"quickchart('df-121e3f0e-e771-404b-9773-417d3e04a940')\"\n",
              "            title=\"Suggest charts.\"\n",
              "            style=\"display:none;\">\n",
              "\n",
              "<svg xmlns=\"http://www.w3.org/2000/svg\" height=\"24px\"viewBox=\"0 0 24 24\"\n",
              "     width=\"24px\">\n",
              "    <g>\n",
              "        <path d=\"M19 3H5c-1.1 0-2 .9-2 2v14c0 1.1.9 2 2 2h14c1.1 0 2-.9 2-2V5c0-1.1-.9-2-2-2zM9 17H7v-7h2v7zm4 0h-2V7h2v10zm4 0h-2v-4h2v4z\"/>\n",
              "    </g>\n",
              "</svg>\n",
              "  </button>\n",
              "\n",
              "<style>\n",
              "  .colab-df-quickchart {\n",
              "      --bg-color: #E8F0FE;\n",
              "      --fill-color: #1967D2;\n",
              "      --hover-bg-color: #E2EBFA;\n",
              "      --hover-fill-color: #174EA6;\n",
              "      --disabled-fill-color: #AAA;\n",
              "      --disabled-bg-color: #DDD;\n",
              "  }\n",
              "\n",
              "  [theme=dark] .colab-df-quickchart {\n",
              "      --bg-color: #3B4455;\n",
              "      --fill-color: #D2E3FC;\n",
              "      --hover-bg-color: #434B5C;\n",
              "      --hover-fill-color: #FFFFFF;\n",
              "      --disabled-bg-color: #3B4455;\n",
              "      --disabled-fill-color: #666;\n",
              "  }\n",
              "\n",
              "  .colab-df-quickchart {\n",
              "    background-color: var(--bg-color);\n",
              "    border: none;\n",
              "    border-radius: 50%;\n",
              "    cursor: pointer;\n",
              "    display: none;\n",
              "    fill: var(--fill-color);\n",
              "    height: 32px;\n",
              "    padding: 0;\n",
              "    width: 32px;\n",
              "  }\n",
              "\n",
              "  .colab-df-quickchart:hover {\n",
              "    background-color: var(--hover-bg-color);\n",
              "    box-shadow: 0 1px 2px rgba(60, 64, 67, 0.3), 0 1px 3px 1px rgba(60, 64, 67, 0.15);\n",
              "    fill: var(--button-hover-fill-color);\n",
              "  }\n",
              "\n",
              "  .colab-df-quickchart-complete:disabled,\n",
              "  .colab-df-quickchart-complete:disabled:hover {\n",
              "    background-color: var(--disabled-bg-color);\n",
              "    fill: var(--disabled-fill-color);\n",
              "    box-shadow: none;\n",
              "  }\n",
              "\n",
              "  .colab-df-spinner {\n",
              "    border: 2px solid var(--fill-color);\n",
              "    border-color: transparent;\n",
              "    border-bottom-color: var(--fill-color);\n",
              "    animation:\n",
              "      spin 1s steps(1) infinite;\n",
              "  }\n",
              "\n",
              "  @keyframes spin {\n",
              "    0% {\n",
              "      border-color: transparent;\n",
              "      border-bottom-color: var(--fill-color);\n",
              "      border-left-color: var(--fill-color);\n",
              "    }\n",
              "    20% {\n",
              "      border-color: transparent;\n",
              "      border-left-color: var(--fill-color);\n",
              "      border-top-color: var(--fill-color);\n",
              "    }\n",
              "    30% {\n",
              "      border-color: transparent;\n",
              "      border-left-color: var(--fill-color);\n",
              "      border-top-color: var(--fill-color);\n",
              "      border-right-color: var(--fill-color);\n",
              "    }\n",
              "    40% {\n",
              "      border-color: transparent;\n",
              "      border-right-color: var(--fill-color);\n",
              "      border-top-color: var(--fill-color);\n",
              "    }\n",
              "    60% {\n",
              "      border-color: transparent;\n",
              "      border-right-color: var(--fill-color);\n",
              "    }\n",
              "    80% {\n",
              "      border-color: transparent;\n",
              "      border-right-color: var(--fill-color);\n",
              "      border-bottom-color: var(--fill-color);\n",
              "    }\n",
              "    90% {\n",
              "      border-color: transparent;\n",
              "      border-bottom-color: var(--fill-color);\n",
              "    }\n",
              "  }\n",
              "</style>\n",
              "\n",
              "  <script>\n",
              "    async function quickchart(key) {\n",
              "      const quickchartButtonEl =\n",
              "        document.querySelector('#' + key + ' button');\n",
              "      quickchartButtonEl.disabled = true;  // To prevent multiple clicks.\n",
              "      quickchartButtonEl.classList.add('colab-df-spinner');\n",
              "      try {\n",
              "        const charts = await google.colab.kernel.invokeFunction(\n",
              "            'suggestCharts', [key], {});\n",
              "      } catch (error) {\n",
              "        console.error('Error during call to suggestCharts:', error);\n",
              "      }\n",
              "      quickchartButtonEl.classList.remove('colab-df-spinner');\n",
              "      quickchartButtonEl.classList.add('colab-df-quickchart-complete');\n",
              "    }\n",
              "    (() => {\n",
              "      let quickchartButtonEl =\n",
              "        document.querySelector('#df-121e3f0e-e771-404b-9773-417d3e04a940 button');\n",
              "      quickchartButtonEl.style.display =\n",
              "        google.colab.kernel.accessAllowed ? 'block' : 'none';\n",
              "    })();\n",
              "  </script>\n",
              "</div>\n",
              "    </div>\n",
              "  </div>\n"
            ]
          },
          "metadata": {},
          "execution_count": 10
        }
      ]
    },
    {
      "cell_type": "code",
      "source": [
        "ADC.Reg_file( df ,'Ra(J2000) deg','Dec(J2000) deg', Units = units.deg, Color = 'red', Size = 10, File_name = 'NGC6822Reg')"
      ],
      "metadata": {
        "id": "LLbZqgZh2Vva",
        "outputId": "543dddad-b935-496f-99e9-af39648bee7f",
        "colab": {
          "base_uri": "https://localhost:8080/"
        }
      },
      "execution_count": 11,
      "outputs": [
        {
          "output_type": "stream",
          "name": "stdout",
          "text": [
            "NGC6822Reg.reg file of this data saved in local directory.\n"
          ]
        }
      ]
    },
    {
      "cell_type": "code",
      "source": [
        "df_spitzer = pd.read_csv(\"/content/NGC_6822/Data/Spitzer Catalog.csv\")\n",
        "df_spitzer['DCG'] = ((df_spitzer['RAJ2000']-(Ra_center))**2 + (df_spitzer['DEJ2000']-(Dec_center))**2)**0.5\n",
        "\n",
        "\n",
        "df_dust = pd.read_csv(\"/content/NGC_6822/Data/Dust Catalog.csv\")"
      ],
      "metadata": {
        "id": "PORUVVda2qhn"
      },
      "execution_count": 18,
      "outputs": []
    },
    {
      "cell_type": "code",
      "source": [
        "df_spitzer.to_csv(\"Spitzer Catalog DCG.csv\")"
      ],
      "metadata": {
        "id": "aG-FHS2LvwDK"
      },
      "execution_count": 21,
      "outputs": []
    },
    {
      "cell_type": "code",
      "source": [
        "ADC.Reg_file( df_spitzer ,'RAJ2000','DEJ2000', Units = units.deg, Color = 'red', Size = 10, File_name = 'NGC6822Reg_Spitzer')"
      ],
      "metadata": {
        "colab": {
          "base_uri": "https://localhost:8080/"
        },
        "id": "ryWfwmnbvzTj",
        "outputId": "708713d1-66f1-4e7e-bd41-41e5f1033043"
      },
      "execution_count": 25,
      "outputs": [
        {
          "output_type": "stream",
          "name": "stdout",
          "text": [
            "NGC6822Reg_Spitzer.reg file of this data saved in local directory.\n"
          ]
        }
      ]
    },
    {
      "cell_type": "code",
      "source": [
        "ADC.Reg_file( df_dust ,'Ra(J2000) deg','Dec(J2000) deg', Units = units.deg, Color = 'red', Size = 10, File_name = 'NGC6822Reg_Dust')"
      ],
      "metadata": {
        "colab": {
          "base_uri": "https://localhost:8080/"
        },
        "id": "iwWrqseuv1KC",
        "outputId": "24a7ec14-8703-4e35-88ea-df44fb274d8a"
      },
      "execution_count": 26,
      "outputs": [
        {
          "output_type": "stream",
          "name": "stdout",
          "text": [
            "NGC6822Reg_Dust.reg file of this data saved in local directory.\n"
          ]
        }
      ]
    },
    {
      "cell_type": "code",
      "source": [],
      "metadata": {
        "id": "ou4GC2nZxM3r"
      },
      "execution_count": null,
      "outputs": []
    }
  ]
}