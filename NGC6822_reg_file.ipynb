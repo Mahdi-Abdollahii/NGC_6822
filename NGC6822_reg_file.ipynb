{
  "nbformat": 4,
  "nbformat_minor": 0,
  "metadata": {
    "colab": {
      "provenance": [],
      "authorship_tag": "ABX9TyMDJCvJkzoXNK6ElrUAphCB",
      "include_colab_link": true
    },
    "kernelspec": {
      "name": "python3",
      "display_name": "Python 3"
    },
    "language_info": {
      "name": "python"
    }
  },
  "cells": [
    {
      "cell_type": "markdown",
      "metadata": {
        "id": "view-in-github",
        "colab_type": "text"
      },
      "source": [
        "<a href=\"https://colab.research.google.com/github/Mahdi-Abdollahii/NGC_6822/blob/main/NGC6822_reg_file.ipynb\" target=\"_parent\"><img src=\"https://colab.research.google.com/assets/colab-badge.svg\" alt=\"Open In Colab\"/></a>"
      ]
    },
    {
      "cell_type": "code",
      "execution_count": 1,
      "metadata": {
        "colab": {
          "base_uri": "https://localhost:8080/"
        },
        "id": "pzoTvbka1z4t",
        "outputId": "64d9037e-bf1d-4d19-8c83-a7d9f68a40d9"
      },
      "outputs": [
        {
          "output_type": "stream",
          "name": "stdout",
          "text": [
            "Cloning into 'NGC_6822'...\n",
            "remote: Enumerating objects: 67, done.\u001b[K\n",
            "remote: Counting objects: 100% (67/67), done.\u001b[K\n",
            "remote: Compressing objects: 100% (65/65), done.\u001b[K\n",
            "remote: Total 67 (delta 21), reused 0 (delta 0), pack-reused 0\u001b[K\n",
            "Unpacking objects: 100% (67/67), done.\n"
          ]
        }
      ],
      "source": [
        "!git clone https://github.com/Mahdi-Abdollahii/NGC_6822.git"
      ]
    },
    {
      "cell_type": "code",
      "source": [
        "!git clone https://github.com/Mahdi-Abdollahii/AstroDC.git"
      ],
      "metadata": {
        "colab": {
          "base_uri": "https://localhost:8080/"
        },
        "id": "os8MJ_VH2AP8",
        "outputId": "a7bb9be5-2f6e-48fb-c79d-4735fc307706"
      },
      "execution_count": 2,
      "outputs": [
        {
          "output_type": "stream",
          "name": "stdout",
          "text": [
            "Cloning into 'AstroDC'...\n",
            "remote: Enumerating objects: 218, done.\u001b[K\n",
            "remote: Counting objects: 100% (83/83), done.\u001b[K\n",
            "remote: Compressing objects: 100% (78/78), done.\u001b[K\n",
            "remote: Total 218 (delta 38), reused 0 (delta 0), pack-reused 135\u001b[K\n",
            "Receiving objects: 100% (218/218), 1.13 MiB | 7.86 MiB/s, done.\n",
            "Resolving deltas: 100% (97/97), done.\n"
          ]
        }
      ]
    },
    {
      "cell_type": "code",
      "source": [
        "pip install git+https://github.com/Mahdi-Abdollahii/AstroDC.git"
      ],
      "metadata": {
        "colab": {
          "base_uri": "https://localhost:8080/"
        },
        "id": "Tss952dx2N78",
        "outputId": "7ed2ba6c-7e36-41bb-afa8-5536d6988d3d"
      },
      "execution_count": 3,
      "outputs": [
        {
          "output_type": "stream",
          "name": "stdout",
          "text": [
            "Looking in indexes: https://pypi.org/simple, https://us-python.pkg.dev/colab-wheels/public/simple/\n",
            "Collecting git+https://github.com/Mahdi-Abdollahii/AstroDC.git\n",
            "  Cloning https://github.com/Mahdi-Abdollahii/AstroDC.git to /tmp/pip-req-build-9qv5rny0\n",
            "  Running command git clone -q https://github.com/Mahdi-Abdollahii/AstroDC.git /tmp/pip-req-build-9qv5rny0\n",
            "Building wheels for collected packages: AstroDC\n",
            "  Building wheel for AstroDC (setup.py) ... \u001b[?25l\u001b[?25hdone\n",
            "  Created wheel for AstroDC: filename=AstroDC-1.0.4-py3-none-any.whl size=2576 sha256=71b9e3e1cd1dec62bfbd1e33f4594d6e2bfb004fa0d6e935f18792d5575272de\n",
            "  Stored in directory: /tmp/pip-ephem-wheel-cache-rh5d8xrd/wheels/3a/dd/30/3b5d25852c9372703f4d564c038363f5a68f610031b9fd3335\n",
            "Successfully built AstroDC\n",
            "Installing collected packages: AstroDC\n",
            "Successfully installed AstroDC-1.0.4\n"
          ]
        }
      ]
    },
    {
      "cell_type": "code",
      "source": [
        "import numpy as np\n",
        "import pandas as pd\n",
        "from AstroDC import AstroDC as ADC\n",
        "from astropy import units"
      ],
      "metadata": {
        "id": "ufhCPu5m2aY9"
      },
      "execution_count": 4,
      "outputs": []
    },
    {
      "cell_type": "code",
      "source": [
        "file_address = '/content/NGC_6822/Data/final_cleaned_data.csv'\n",
        "df = pd.read_csv(file_address , index_col='Mid')\n",
        "df = df.replace('', 89.99)\n",
        "df = df.fillna(89.99)"
      ],
      "metadata": {
        "id": "c2aMgXsJ2QDO"
      },
      "execution_count": 5,
      "outputs": []
    },
    {
      "cell_type": "code",
      "source": [
        "df"
      ],
      "metadata": {
        "colab": {
          "base_uri": "https://localhost:8080/",
          "height": 455
        },
        "id": "kaq_evK82yq9",
        "outputId": "edba0948-b516-45b3-e767-f9c3dab71304"
      },
      "execution_count": 6,
      "outputs": [
        {
          "output_type": "execute_result",
          "data": {
            "text/plain": [
              "      Id-main  Ra(J2000) deg  Dec(J2000) deg       J     eJ       H     eH  \\\n",
              "Mid                                                                          \n",
              "1    10870.00     296.178920      -14.822860  17.520   0.04  16.530   0.04   \n",
              "2    10784.00     296.215450      -14.834690  17.450   0.03  16.530   0.04   \n",
              "3    11004.00     296.273410      -14.808610  17.600   0.03  16.620   0.03   \n",
              "4    11029.00     296.283080      -14.804970  17.460   0.03  16.550   0.02   \n",
              "5    12050.00     296.254270      -14.817640  18.170   0.07  17.250   0.10   \n",
              "..        ...            ...             ...     ...    ...     ...    ...   \n",
              "381     89.99     296.003693      -14.974893  18.392  89.99  17.560  89.99   \n",
              "382     89.99     297.181274      -14.445981  18.530  89.99  18.264  89.99   \n",
              "383     89.99     297.108337      -14.493650  18.191  89.99  17.383  89.99   \n",
              "384     89.99     297.013916      -14.348797  18.201  89.99  17.552  89.99   \n",
              "385     89.99     295.689667      -15.155052  17.736  89.99  16.787  89.99   \n",
              "\n",
              "         Ks    eKs Types  \n",
              "Mid                       \n",
              "1    16.190   0.05     S  \n",
              "2    16.200   0.06     S  \n",
              "3    16.270   0.05     S  \n",
              "4    16.220   0.05     S  \n",
              "5    16.700   0.05     S  \n",
              "..      ...    ...   ...  \n",
              "381  17.210  89.99   C    \n",
              "382  17.292  89.99   C    \n",
              "383  16.661  89.99   C    \n",
              "384  16.944  89.99   C    \n",
              "385  16.428  89.99     C  \n",
              "\n",
              "[385 rows x 10 columns]"
            ],
            "text/html": [
              "\n",
              "  <div id=\"df-4ac96684-15c9-45d2-9bae-97b70534c6cb\">\n",
              "    <div class=\"colab-df-container\">\n",
              "      <div>\n",
              "<style scoped>\n",
              "    .dataframe tbody tr th:only-of-type {\n",
              "        vertical-align: middle;\n",
              "    }\n",
              "\n",
              "    .dataframe tbody tr th {\n",
              "        vertical-align: top;\n",
              "    }\n",
              "\n",
              "    .dataframe thead th {\n",
              "        text-align: right;\n",
              "    }\n",
              "</style>\n",
              "<table border=\"1\" class=\"dataframe\">\n",
              "  <thead>\n",
              "    <tr style=\"text-align: right;\">\n",
              "      <th></th>\n",
              "      <th>Id-main</th>\n",
              "      <th>Ra(J2000) deg</th>\n",
              "      <th>Dec(J2000) deg</th>\n",
              "      <th>J</th>\n",
              "      <th>eJ</th>\n",
              "      <th>H</th>\n",
              "      <th>eH</th>\n",
              "      <th>Ks</th>\n",
              "      <th>eKs</th>\n",
              "      <th>Types</th>\n",
              "    </tr>\n",
              "    <tr>\n",
              "      <th>Mid</th>\n",
              "      <th></th>\n",
              "      <th></th>\n",
              "      <th></th>\n",
              "      <th></th>\n",
              "      <th></th>\n",
              "      <th></th>\n",
              "      <th></th>\n",
              "      <th></th>\n",
              "      <th></th>\n",
              "      <th></th>\n",
              "    </tr>\n",
              "  </thead>\n",
              "  <tbody>\n",
              "    <tr>\n",
              "      <th>1</th>\n",
              "      <td>10870.00</td>\n",
              "      <td>296.178920</td>\n",
              "      <td>-14.822860</td>\n",
              "      <td>17.520</td>\n",
              "      <td>0.04</td>\n",
              "      <td>16.530</td>\n",
              "      <td>0.04</td>\n",
              "      <td>16.190</td>\n",
              "      <td>0.05</td>\n",
              "      <td>S</td>\n",
              "    </tr>\n",
              "    <tr>\n",
              "      <th>2</th>\n",
              "      <td>10784.00</td>\n",
              "      <td>296.215450</td>\n",
              "      <td>-14.834690</td>\n",
              "      <td>17.450</td>\n",
              "      <td>0.03</td>\n",
              "      <td>16.530</td>\n",
              "      <td>0.04</td>\n",
              "      <td>16.200</td>\n",
              "      <td>0.06</td>\n",
              "      <td>S</td>\n",
              "    </tr>\n",
              "    <tr>\n",
              "      <th>3</th>\n",
              "      <td>11004.00</td>\n",
              "      <td>296.273410</td>\n",
              "      <td>-14.808610</td>\n",
              "      <td>17.600</td>\n",
              "      <td>0.03</td>\n",
              "      <td>16.620</td>\n",
              "      <td>0.03</td>\n",
              "      <td>16.270</td>\n",
              "      <td>0.05</td>\n",
              "      <td>S</td>\n",
              "    </tr>\n",
              "    <tr>\n",
              "      <th>4</th>\n",
              "      <td>11029.00</td>\n",
              "      <td>296.283080</td>\n",
              "      <td>-14.804970</td>\n",
              "      <td>17.460</td>\n",
              "      <td>0.03</td>\n",
              "      <td>16.550</td>\n",
              "      <td>0.02</td>\n",
              "      <td>16.220</td>\n",
              "      <td>0.05</td>\n",
              "      <td>S</td>\n",
              "    </tr>\n",
              "    <tr>\n",
              "      <th>5</th>\n",
              "      <td>12050.00</td>\n",
              "      <td>296.254270</td>\n",
              "      <td>-14.817640</td>\n",
              "      <td>18.170</td>\n",
              "      <td>0.07</td>\n",
              "      <td>17.250</td>\n",
              "      <td>0.10</td>\n",
              "      <td>16.700</td>\n",
              "      <td>0.05</td>\n",
              "      <td>S</td>\n",
              "    </tr>\n",
              "    <tr>\n",
              "      <th>...</th>\n",
              "      <td>...</td>\n",
              "      <td>...</td>\n",
              "      <td>...</td>\n",
              "      <td>...</td>\n",
              "      <td>...</td>\n",
              "      <td>...</td>\n",
              "      <td>...</td>\n",
              "      <td>...</td>\n",
              "      <td>...</td>\n",
              "      <td>...</td>\n",
              "    </tr>\n",
              "    <tr>\n",
              "      <th>381</th>\n",
              "      <td>89.99</td>\n",
              "      <td>296.003693</td>\n",
              "      <td>-14.974893</td>\n",
              "      <td>18.392</td>\n",
              "      <td>89.99</td>\n",
              "      <td>17.560</td>\n",
              "      <td>89.99</td>\n",
              "      <td>17.210</td>\n",
              "      <td>89.99</td>\n",
              "      <td>C</td>\n",
              "    </tr>\n",
              "    <tr>\n",
              "      <th>382</th>\n",
              "      <td>89.99</td>\n",
              "      <td>297.181274</td>\n",
              "      <td>-14.445981</td>\n",
              "      <td>18.530</td>\n",
              "      <td>89.99</td>\n",
              "      <td>18.264</td>\n",
              "      <td>89.99</td>\n",
              "      <td>17.292</td>\n",
              "      <td>89.99</td>\n",
              "      <td>C</td>\n",
              "    </tr>\n",
              "    <tr>\n",
              "      <th>383</th>\n",
              "      <td>89.99</td>\n",
              "      <td>297.108337</td>\n",
              "      <td>-14.493650</td>\n",
              "      <td>18.191</td>\n",
              "      <td>89.99</td>\n",
              "      <td>17.383</td>\n",
              "      <td>89.99</td>\n",
              "      <td>16.661</td>\n",
              "      <td>89.99</td>\n",
              "      <td>C</td>\n",
              "    </tr>\n",
              "    <tr>\n",
              "      <th>384</th>\n",
              "      <td>89.99</td>\n",
              "      <td>297.013916</td>\n",
              "      <td>-14.348797</td>\n",
              "      <td>18.201</td>\n",
              "      <td>89.99</td>\n",
              "      <td>17.552</td>\n",
              "      <td>89.99</td>\n",
              "      <td>16.944</td>\n",
              "      <td>89.99</td>\n",
              "      <td>C</td>\n",
              "    </tr>\n",
              "    <tr>\n",
              "      <th>385</th>\n",
              "      <td>89.99</td>\n",
              "      <td>295.689667</td>\n",
              "      <td>-15.155052</td>\n",
              "      <td>17.736</td>\n",
              "      <td>89.99</td>\n",
              "      <td>16.787</td>\n",
              "      <td>89.99</td>\n",
              "      <td>16.428</td>\n",
              "      <td>89.99</td>\n",
              "      <td>C</td>\n",
              "    </tr>\n",
              "  </tbody>\n",
              "</table>\n",
              "<p>385 rows × 10 columns</p>\n",
              "</div>\n",
              "      <button class=\"colab-df-convert\" onclick=\"convertToInteractive('df-4ac96684-15c9-45d2-9bae-97b70534c6cb')\"\n",
              "              title=\"Convert this dataframe to an interactive table.\"\n",
              "              style=\"display:none;\">\n",
              "        \n",
              "  <svg xmlns=\"http://www.w3.org/2000/svg\" height=\"24px\"viewBox=\"0 0 24 24\"\n",
              "       width=\"24px\">\n",
              "    <path d=\"M0 0h24v24H0V0z\" fill=\"none\"/>\n",
              "    <path d=\"M18.56 5.44l.94 2.06.94-2.06 2.06-.94-2.06-.94-.94-2.06-.94 2.06-2.06.94zm-11 1L8.5 8.5l.94-2.06 2.06-.94-2.06-.94L8.5 2.5l-.94 2.06-2.06.94zm10 10l.94 2.06.94-2.06 2.06-.94-2.06-.94-.94-2.06-.94 2.06-2.06.94z\"/><path d=\"M17.41 7.96l-1.37-1.37c-.4-.4-.92-.59-1.43-.59-.52 0-1.04.2-1.43.59L10.3 9.45l-7.72 7.72c-.78.78-.78 2.05 0 2.83L4 21.41c.39.39.9.59 1.41.59.51 0 1.02-.2 1.41-.59l7.78-7.78 2.81-2.81c.8-.78.8-2.07 0-2.86zM5.41 20L4 18.59l7.72-7.72 1.47 1.35L5.41 20z\"/>\n",
              "  </svg>\n",
              "      </button>\n",
              "      \n",
              "  <style>\n",
              "    .colab-df-container {\n",
              "      display:flex;\n",
              "      flex-wrap:wrap;\n",
              "      gap: 12px;\n",
              "    }\n",
              "\n",
              "    .colab-df-convert {\n",
              "      background-color: #E8F0FE;\n",
              "      border: none;\n",
              "      border-radius: 50%;\n",
              "      cursor: pointer;\n",
              "      display: none;\n",
              "      fill: #1967D2;\n",
              "      height: 32px;\n",
              "      padding: 0 0 0 0;\n",
              "      width: 32px;\n",
              "    }\n",
              "\n",
              "    .colab-df-convert:hover {\n",
              "      background-color: #E2EBFA;\n",
              "      box-shadow: 0px 1px 2px rgba(60, 64, 67, 0.3), 0px 1px 3px 1px rgba(60, 64, 67, 0.15);\n",
              "      fill: #174EA6;\n",
              "    }\n",
              "\n",
              "    [theme=dark] .colab-df-convert {\n",
              "      background-color: #3B4455;\n",
              "      fill: #D2E3FC;\n",
              "    }\n",
              "\n",
              "    [theme=dark] .colab-df-convert:hover {\n",
              "      background-color: #434B5C;\n",
              "      box-shadow: 0px 1px 3px 1px rgba(0, 0, 0, 0.15);\n",
              "      filter: drop-shadow(0px 1px 2px rgba(0, 0, 0, 0.3));\n",
              "      fill: #FFFFFF;\n",
              "    }\n",
              "  </style>\n",
              "\n",
              "      <script>\n",
              "        const buttonEl =\n",
              "          document.querySelector('#df-4ac96684-15c9-45d2-9bae-97b70534c6cb button.colab-df-convert');\n",
              "        buttonEl.style.display =\n",
              "          google.colab.kernel.accessAllowed ? 'block' : 'none';\n",
              "\n",
              "        async function convertToInteractive(key) {\n",
              "          const element = document.querySelector('#df-4ac96684-15c9-45d2-9bae-97b70534c6cb');\n",
              "          const dataTable =\n",
              "            await google.colab.kernel.invokeFunction('convertToInteractive',\n",
              "                                                     [key], {});\n",
              "          if (!dataTable) return;\n",
              "\n",
              "          const docLinkHtml = 'Like what you see? Visit the ' +\n",
              "            '<a target=\"_blank\" href=https://colab.research.google.com/notebooks/data_table.ipynb>data table notebook</a>'\n",
              "            + ' to learn more about interactive tables.';\n",
              "          element.innerHTML = '';\n",
              "          dataTable['output_type'] = 'display_data';\n",
              "          await google.colab.output.renderOutput(dataTable, element);\n",
              "          const docLink = document.createElement('div');\n",
              "          docLink.innerHTML = docLinkHtml;\n",
              "          element.appendChild(docLink);\n",
              "        }\n",
              "      </script>\n",
              "    </div>\n",
              "  </div>\n",
              "  "
            ]
          },
          "metadata": {},
          "execution_count": 6
        }
      ]
    },
    {
      "cell_type": "code",
      "source": [
        "ADC.Reg_file( df ,'Ra(J2000) deg','Dec(J2000) deg', Units = units.deg, Color = 'red', Size = 10, File_name = 'NGC6822Reg')"
      ],
      "metadata": {
        "id": "LLbZqgZh2Vva",
        "outputId": "7e3e42cd-fac7-439b-d040-bed615e07f67",
        "colab": {
          "base_uri": "https://localhost:8080/"
        }
      },
      "execution_count": 7,
      "outputs": [
        {
          "output_type": "stream",
          "name": "stdout",
          "text": [
            "NGC6822Reg.reg file of this data saved in local directory.\n"
          ]
        }
      ]
    },
    {
      "cell_type": "code",
      "source": [],
      "metadata": {
        "id": "PORUVVda2qhn"
      },
      "execution_count": null,
      "outputs": []
    }
  ]
}