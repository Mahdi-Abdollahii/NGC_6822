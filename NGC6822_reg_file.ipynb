{
  "nbformat": 4,
  "nbformat_minor": 0,
  "metadata": {
    "colab": {
      "provenance": [],
      "authorship_tag": "ABX9TyMDJCvJkzoXNK6ElrUAphCB",
      "include_colab_link": true
    },
    "kernelspec": {
      "name": "python3",
      "display_name": "Python 3"
    },
    "language_info": {
      "name": "python"
    }
  },
  "cells": [
    {
      "cell_type": "markdown",
      "metadata": {
        "id": "view-in-github",
        "colab_type": "text"
      },
      "source": [
        "<a href=\"https://colab.research.google.com/github/Mahdi-Abdollahii/NGC_6822/blob/main/NGC6822_reg_file.ipynb\" target=\"_parent\"><img src=\"https://colab.research.google.com/assets/colab-badge.svg\" alt=\"Open In Colab\"/></a>"
      ]
    },
    {
      "cell_type": "code",
      "execution_count": 1,
      "metadata": {
        "colab": {
          "base_uri": "https://localhost:8080/"
        },
        "id": "pzoTvbka1z4t",
        "outputId": "18dab768-d5b1-4582-beb1-39aea37e1d4d"
      },
      "outputs": [
        {
          "output_type": "stream",
          "name": "stdout",
          "text": [
            "Cloning into 'NGC_6822'...\n",
            "remote: Enumerating objects: 53, done.\u001b[K\n",
            "remote: Counting objects: 100% (53/53), done.\u001b[K\n",
            "remote: Compressing objects: 100% (51/51), done.\u001b[K\n",
            "remote: Total 53 (delta 12), reused 0 (delta 0), pack-reused 0\u001b[K\n",
            "Unpacking objects: 100% (53/53), done.\n"
          ]
        }
      ],
      "source": [
        "!git clone https://github.com/Mahdi-Abdollahii/NGC_6822.git"
      ]
    },
    {
      "cell_type": "code",
      "source": [
        "!git clone https://github.com/Mahdi-Abdollahii/AstroDC.git"
      ],
      "metadata": {
        "colab": {
          "base_uri": "https://localhost:8080/"
        },
        "id": "os8MJ_VH2AP8",
        "outputId": "e811cb84-6668-4377-c207-f2229b9b4f98"
      },
      "execution_count": 2,
      "outputs": [
        {
          "output_type": "stream",
          "name": "stdout",
          "text": [
            "Cloning into 'AstroDC'...\n",
            "remote: Enumerating objects: 218, done.\u001b[K\n",
            "remote: Counting objects: 100% (83/83), done.\u001b[K\n",
            "remote: Compressing objects: 100% (78/78), done.\u001b[K\n",
            "remote: Total 218 (delta 38), reused 0 (delta 0), pack-reused 135\u001b[K\n",
            "Receiving objects: 100% (218/218), 1.13 MiB | 7.40 MiB/s, done.\n",
            "Resolving deltas: 100% (97/97), done.\n"
          ]
        }
      ]
    },
    {
      "cell_type": "code",
      "source": [
        "pip install git+https://github.com/Mahdi-Abdollahii/AstroDC.git"
      ],
      "metadata": {
        "colab": {
          "base_uri": "https://localhost:8080/"
        },
        "id": "Tss952dx2N78",
        "outputId": "ac2fb79b-0335-4df7-925c-8fdb943eff5c"
      },
      "execution_count": 3,
      "outputs": [
        {
          "output_type": "stream",
          "name": "stdout",
          "text": [
            "Looking in indexes: https://pypi.org/simple, https://us-python.pkg.dev/colab-wheels/public/simple/\n",
            "Collecting git+https://github.com/Mahdi-Abdollahii/AstroDC.git\n",
            "  Cloning https://github.com/Mahdi-Abdollahii/AstroDC.git to /tmp/pip-req-build-3x56jdt1\n",
            "  Running command git clone -q https://github.com/Mahdi-Abdollahii/AstroDC.git /tmp/pip-req-build-3x56jdt1\n",
            "Building wheels for collected packages: AstroDC\n",
            "  Building wheel for AstroDC (setup.py) ... \u001b[?25l\u001b[?25hdone\n",
            "  Created wheel for AstroDC: filename=AstroDC-1.0.4-py3-none-any.whl size=2576 sha256=2c5531303cf46c8529eed6cd72b97d2d9935066811b859e1bab43e6fb97956a4\n",
            "  Stored in directory: /tmp/pip-ephem-wheel-cache-rx0euy4y/wheels/3a/dd/30/3b5d25852c9372703f4d564c038363f5a68f610031b9fd3335\n",
            "Successfully built AstroDC\n",
            "Installing collected packages: AstroDC\n",
            "Successfully installed AstroDC-1.0.4\n"
          ]
        }
      ]
    },
    {
      "cell_type": "code",
      "source": [
        "import numpy as np\n",
        "import pandas as pd\n",
        "from AstroDC import AstroDC as ADC\n",
        "from astropy import units"
      ],
      "metadata": {
        "id": "ufhCPu5m2aY9"
      },
      "execution_count": 4,
      "outputs": []
    },
    {
      "cell_type": "code",
      "source": [
        "file_address = '/content/NGC_6822/Data/final_cleaned_data.csv'\n",
        "df = pd.read_csv(file_address , index_col='Mid')\n",
        "df = df.replace('', 89.99)\n",
        "df = df.fillna(89.99)"
      ],
      "metadata": {
        "id": "c2aMgXsJ2QDO"
      },
      "execution_count": 5,
      "outputs": []
    },
    {
      "cell_type": "code",
      "source": [
        "df"
      ],
      "metadata": {
        "colab": {
          "base_uri": "https://localhost:8080/",
          "height": 455
        },
        "id": "kaq_evK82yq9",
        "outputId": "6050f444-737d-4b5f-9d00-fae8e63a4643"
      },
      "execution_count": 6,
      "outputs": [
        {
          "output_type": "execute_result",
          "data": {
            "text/plain": [
              "      Id-main  Ra(J2000) deg  Dec(J2000) deg       J     eJ       H     eH  \\\n",
              "Mid                                                                          \n",
              "1.0  10870.00      296.17892       -14.82286  17.520   0.04  16.530   0.04   \n",
              "2.0  10784.00      296.21545       -14.83469  17.450   0.03  16.530   0.04   \n",
              "3.0  11004.00      296.27341       -14.80861  17.600   0.03  16.620   0.03   \n",
              "4.0  11029.00      296.28308       -14.80497  17.460   0.03  16.550   0.02   \n",
              "5.0  12050.00      296.25427       -14.81764  18.170   0.07  17.250   0.10   \n",
              "..        ...            ...             ...     ...    ...     ...    ...   \n",
              "NaN     89.99       89.99000        89.99000   89.99  89.99   89.99  89.99   \n",
              "NaN     89.99       89.99000        89.99000   89.99  89.99   89.99  89.99   \n",
              "NaN     89.99       89.99000        89.99000   89.99  89.99   89.99  89.99   \n",
              "NaN     89.99       89.99000        89.99000   89.99  89.99   89.99  89.99   \n",
              "NaN     89.99       89.99000        89.99000   89.99  89.99   89.99  89.99   \n",
              "\n",
              "        Ks    eKs  Types  \n",
              "Mid                       \n",
              "1.0  16.19   0.05      S  \n",
              "2.0  16.20   0.06      S  \n",
              "3.0  16.27   0.05      S  \n",
              "4.0  16.22   0.05      S  \n",
              "5.0  16.70   0.05      S  \n",
              "..     ...    ...    ...  \n",
              "NaN  89.99  89.99  89.99  \n",
              "NaN  89.99  89.99  89.99  \n",
              "NaN  89.99  89.99  89.99  \n",
              "NaN  89.99  89.99  89.99  \n",
              "NaN  89.99  89.99  89.99  \n",
              "\n",
              "[401 rows x 10 columns]"
            ],
            "text/html": [
              "\n",
              "  <div id=\"df-91f63a0c-a39f-438b-9b9c-d23dfdacbe85\">\n",
              "    <div class=\"colab-df-container\">\n",
              "      <div>\n",
              "<style scoped>\n",
              "    .dataframe tbody tr th:only-of-type {\n",
              "        vertical-align: middle;\n",
              "    }\n",
              "\n",
              "    .dataframe tbody tr th {\n",
              "        vertical-align: top;\n",
              "    }\n",
              "\n",
              "    .dataframe thead th {\n",
              "        text-align: right;\n",
              "    }\n",
              "</style>\n",
              "<table border=\"1\" class=\"dataframe\">\n",
              "  <thead>\n",
              "    <tr style=\"text-align: right;\">\n",
              "      <th></th>\n",
              "      <th>Id-main</th>\n",
              "      <th>Ra(J2000) deg</th>\n",
              "      <th>Dec(J2000) deg</th>\n",
              "      <th>J</th>\n",
              "      <th>eJ</th>\n",
              "      <th>H</th>\n",
              "      <th>eH</th>\n",
              "      <th>Ks</th>\n",
              "      <th>eKs</th>\n",
              "      <th>Types</th>\n",
              "    </tr>\n",
              "    <tr>\n",
              "      <th>Mid</th>\n",
              "      <th></th>\n",
              "      <th></th>\n",
              "      <th></th>\n",
              "      <th></th>\n",
              "      <th></th>\n",
              "      <th></th>\n",
              "      <th></th>\n",
              "      <th></th>\n",
              "      <th></th>\n",
              "      <th></th>\n",
              "    </tr>\n",
              "  </thead>\n",
              "  <tbody>\n",
              "    <tr>\n",
              "      <th>1.0</th>\n",
              "      <td>10870.00</td>\n",
              "      <td>296.17892</td>\n",
              "      <td>-14.82286</td>\n",
              "      <td>17.520</td>\n",
              "      <td>0.04</td>\n",
              "      <td>16.530</td>\n",
              "      <td>0.04</td>\n",
              "      <td>16.19</td>\n",
              "      <td>0.05</td>\n",
              "      <td>S</td>\n",
              "    </tr>\n",
              "    <tr>\n",
              "      <th>2.0</th>\n",
              "      <td>10784.00</td>\n",
              "      <td>296.21545</td>\n",
              "      <td>-14.83469</td>\n",
              "      <td>17.450</td>\n",
              "      <td>0.03</td>\n",
              "      <td>16.530</td>\n",
              "      <td>0.04</td>\n",
              "      <td>16.20</td>\n",
              "      <td>0.06</td>\n",
              "      <td>S</td>\n",
              "    </tr>\n",
              "    <tr>\n",
              "      <th>3.0</th>\n",
              "      <td>11004.00</td>\n",
              "      <td>296.27341</td>\n",
              "      <td>-14.80861</td>\n",
              "      <td>17.600</td>\n",
              "      <td>0.03</td>\n",
              "      <td>16.620</td>\n",
              "      <td>0.03</td>\n",
              "      <td>16.27</td>\n",
              "      <td>0.05</td>\n",
              "      <td>S</td>\n",
              "    </tr>\n",
              "    <tr>\n",
              "      <th>4.0</th>\n",
              "      <td>11029.00</td>\n",
              "      <td>296.28308</td>\n",
              "      <td>-14.80497</td>\n",
              "      <td>17.460</td>\n",
              "      <td>0.03</td>\n",
              "      <td>16.550</td>\n",
              "      <td>0.02</td>\n",
              "      <td>16.22</td>\n",
              "      <td>0.05</td>\n",
              "      <td>S</td>\n",
              "    </tr>\n",
              "    <tr>\n",
              "      <th>5.0</th>\n",
              "      <td>12050.00</td>\n",
              "      <td>296.25427</td>\n",
              "      <td>-14.81764</td>\n",
              "      <td>18.170</td>\n",
              "      <td>0.07</td>\n",
              "      <td>17.250</td>\n",
              "      <td>0.10</td>\n",
              "      <td>16.70</td>\n",
              "      <td>0.05</td>\n",
              "      <td>S</td>\n",
              "    </tr>\n",
              "    <tr>\n",
              "      <th>...</th>\n",
              "      <td>...</td>\n",
              "      <td>...</td>\n",
              "      <td>...</td>\n",
              "      <td>...</td>\n",
              "      <td>...</td>\n",
              "      <td>...</td>\n",
              "      <td>...</td>\n",
              "      <td>...</td>\n",
              "      <td>...</td>\n",
              "      <td>...</td>\n",
              "    </tr>\n",
              "    <tr>\n",
              "      <th>NaN</th>\n",
              "      <td>89.99</td>\n",
              "      <td>89.99000</td>\n",
              "      <td>89.99000</td>\n",
              "      <td>89.99</td>\n",
              "      <td>89.99</td>\n",
              "      <td>89.99</td>\n",
              "      <td>89.99</td>\n",
              "      <td>89.99</td>\n",
              "      <td>89.99</td>\n",
              "      <td>89.99</td>\n",
              "    </tr>\n",
              "    <tr>\n",
              "      <th>NaN</th>\n",
              "      <td>89.99</td>\n",
              "      <td>89.99000</td>\n",
              "      <td>89.99000</td>\n",
              "      <td>89.99</td>\n",
              "      <td>89.99</td>\n",
              "      <td>89.99</td>\n",
              "      <td>89.99</td>\n",
              "      <td>89.99</td>\n",
              "      <td>89.99</td>\n",
              "      <td>89.99</td>\n",
              "    </tr>\n",
              "    <tr>\n",
              "      <th>NaN</th>\n",
              "      <td>89.99</td>\n",
              "      <td>89.99000</td>\n",
              "      <td>89.99000</td>\n",
              "      <td>89.99</td>\n",
              "      <td>89.99</td>\n",
              "      <td>89.99</td>\n",
              "      <td>89.99</td>\n",
              "      <td>89.99</td>\n",
              "      <td>89.99</td>\n",
              "      <td>89.99</td>\n",
              "    </tr>\n",
              "    <tr>\n",
              "      <th>NaN</th>\n",
              "      <td>89.99</td>\n",
              "      <td>89.99000</td>\n",
              "      <td>89.99000</td>\n",
              "      <td>89.99</td>\n",
              "      <td>89.99</td>\n",
              "      <td>89.99</td>\n",
              "      <td>89.99</td>\n",
              "      <td>89.99</td>\n",
              "      <td>89.99</td>\n",
              "      <td>89.99</td>\n",
              "    </tr>\n",
              "    <tr>\n",
              "      <th>NaN</th>\n",
              "      <td>89.99</td>\n",
              "      <td>89.99000</td>\n",
              "      <td>89.99000</td>\n",
              "      <td>89.99</td>\n",
              "      <td>89.99</td>\n",
              "      <td>89.99</td>\n",
              "      <td>89.99</td>\n",
              "      <td>89.99</td>\n",
              "      <td>89.99</td>\n",
              "      <td>89.99</td>\n",
              "    </tr>\n",
              "  </tbody>\n",
              "</table>\n",
              "<p>401 rows × 10 columns</p>\n",
              "</div>\n",
              "      <button class=\"colab-df-convert\" onclick=\"convertToInteractive('df-91f63a0c-a39f-438b-9b9c-d23dfdacbe85')\"\n",
              "              title=\"Convert this dataframe to an interactive table.\"\n",
              "              style=\"display:none;\">\n",
              "        \n",
              "  <svg xmlns=\"http://www.w3.org/2000/svg\" height=\"24px\"viewBox=\"0 0 24 24\"\n",
              "       width=\"24px\">\n",
              "    <path d=\"M0 0h24v24H0V0z\" fill=\"none\"/>\n",
              "    <path d=\"M18.56 5.44l.94 2.06.94-2.06 2.06-.94-2.06-.94-.94-2.06-.94 2.06-2.06.94zm-11 1L8.5 8.5l.94-2.06 2.06-.94-2.06-.94L8.5 2.5l-.94 2.06-2.06.94zm10 10l.94 2.06.94-2.06 2.06-.94-2.06-.94-.94-2.06-.94 2.06-2.06.94z\"/><path d=\"M17.41 7.96l-1.37-1.37c-.4-.4-.92-.59-1.43-.59-.52 0-1.04.2-1.43.59L10.3 9.45l-7.72 7.72c-.78.78-.78 2.05 0 2.83L4 21.41c.39.39.9.59 1.41.59.51 0 1.02-.2 1.41-.59l7.78-7.78 2.81-2.81c.8-.78.8-2.07 0-2.86zM5.41 20L4 18.59l7.72-7.72 1.47 1.35L5.41 20z\"/>\n",
              "  </svg>\n",
              "      </button>\n",
              "      \n",
              "  <style>\n",
              "    .colab-df-container {\n",
              "      display:flex;\n",
              "      flex-wrap:wrap;\n",
              "      gap: 12px;\n",
              "    }\n",
              "\n",
              "    .colab-df-convert {\n",
              "      background-color: #E8F0FE;\n",
              "      border: none;\n",
              "      border-radius: 50%;\n",
              "      cursor: pointer;\n",
              "      display: none;\n",
              "      fill: #1967D2;\n",
              "      height: 32px;\n",
              "      padding: 0 0 0 0;\n",
              "      width: 32px;\n",
              "    }\n",
              "\n",
              "    .colab-df-convert:hover {\n",
              "      background-color: #E2EBFA;\n",
              "      box-shadow: 0px 1px 2px rgba(60, 64, 67, 0.3), 0px 1px 3px 1px rgba(60, 64, 67, 0.15);\n",
              "      fill: #174EA6;\n",
              "    }\n",
              "\n",
              "    [theme=dark] .colab-df-convert {\n",
              "      background-color: #3B4455;\n",
              "      fill: #D2E3FC;\n",
              "    }\n",
              "\n",
              "    [theme=dark] .colab-df-convert:hover {\n",
              "      background-color: #434B5C;\n",
              "      box-shadow: 0px 1px 3px 1px rgba(0, 0, 0, 0.15);\n",
              "      filter: drop-shadow(0px 1px 2px rgba(0, 0, 0, 0.3));\n",
              "      fill: #FFFFFF;\n",
              "    }\n",
              "  </style>\n",
              "\n",
              "      <script>\n",
              "        const buttonEl =\n",
              "          document.querySelector('#df-91f63a0c-a39f-438b-9b9c-d23dfdacbe85 button.colab-df-convert');\n",
              "        buttonEl.style.display =\n",
              "          google.colab.kernel.accessAllowed ? 'block' : 'none';\n",
              "\n",
              "        async function convertToInteractive(key) {\n",
              "          const element = document.querySelector('#df-91f63a0c-a39f-438b-9b9c-d23dfdacbe85');\n",
              "          const dataTable =\n",
              "            await google.colab.kernel.invokeFunction('convertToInteractive',\n",
              "                                                     [key], {});\n",
              "          if (!dataTable) return;\n",
              "\n",
              "          const docLinkHtml = 'Like what you see? Visit the ' +\n",
              "            '<a target=\"_blank\" href=https://colab.research.google.com/notebooks/data_table.ipynb>data table notebook</a>'\n",
              "            + ' to learn more about interactive tables.';\n",
              "          element.innerHTML = '';\n",
              "          dataTable['output_type'] = 'display_data';\n",
              "          await google.colab.output.renderOutput(dataTable, element);\n",
              "          const docLink = document.createElement('div');\n",
              "          docLink.innerHTML = docLinkHtml;\n",
              "          element.appendChild(docLink);\n",
              "        }\n",
              "      </script>\n",
              "    </div>\n",
              "  </div>\n",
              "  "
            ]
          },
          "metadata": {},
          "execution_count": 6
        }
      ]
    },
    {
      "cell_type": "code",
      "source": [
        "ADC.Reg_file( df ,'Ra(J2000) deg','Dec(J2000) deg', Units = units.deg, Color = 'red', Size = 10, File_name = 'NGC6822Reg')"
      ],
      "metadata": {
        "id": "LLbZqgZh2Vva",
        "outputId": "82591209-f619-407e-d7ca-e097b8bd14c4",
        "colab": {
          "base_uri": "https://localhost:8080/"
        }
      },
      "execution_count": 7,
      "outputs": [
        {
          "output_type": "stream",
          "name": "stdout",
          "text": [
            "NGC6822Reg.reg file of this data saved in local directory.\n"
          ]
        }
      ]
    },
    {
      "cell_type": "code",
      "source": [],
      "metadata": {
        "id": "PORUVVda2qhn"
      },
      "execution_count": null,
      "outputs": []
    }
  ]
}