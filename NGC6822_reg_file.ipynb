{
  "nbformat": 4,
  "nbformat_minor": 0,
  "metadata": {
    "colab": {
      "provenance": [],
      "authorship_tag": "ABX9TyMDJCvJkzoXNK6ElrUAphCB",
      "include_colab_link": true
    },
    "kernelspec": {
      "name": "python3",
      "display_name": "Python 3"
    },
    "language_info": {
      "name": "python"
    }
  },
  "cells": [
    {
      "cell_type": "markdown",
      "metadata": {
        "id": "view-in-github",
        "colab_type": "text"
      },
      "source": [
        "<a href=\"https://colab.research.google.com/github/Mahdi-Abdollahii/NGC_6822/blob/main/NGC6822_reg_file.ipynb\" target=\"_parent\"><img src=\"https://colab.research.google.com/assets/colab-badge.svg\" alt=\"Open In Colab\"/></a>"
      ]
    },
    {
      "cell_type": "code",
      "execution_count": 1,
      "metadata": {
        "colab": {
          "base_uri": "https://localhost:8080/"
        },
        "id": "pzoTvbka1z4t",
        "outputId": "6567bda2-7030-41a3-d9d8-a345d40c853a"
      },
      "outputs": [
        {
          "output_type": "stream",
          "name": "stdout",
          "text": [
            "Cloning into 'NGC_6822'...\n",
            "remote: Enumerating objects: 40, done.\u001b[K\n",
            "remote: Counting objects: 100% (40/40), done.\u001b[K\n",
            "remote: Compressing objects: 100% (38/38), done.\u001b[K\n",
            "remote: Total 40 (delta 2), reused 0 (delta 0), pack-reused 0\u001b[K\n",
            "Unpacking objects: 100% (40/40), done.\n"
          ]
        }
      ],
      "source": [
        "!git clone https://github.com/Mahdi-Abdollahii/NGC_6822.git"
      ]
    },
    {
      "cell_type": "code",
      "source": [
        "!git clone https://github.com/Mahdi-Abdollahii/AstroDC.git"
      ],
      "metadata": {
        "colab": {
          "base_uri": "https://localhost:8080/"
        },
        "id": "os8MJ_VH2AP8",
        "outputId": "b79f7ea0-6c04-4188-a860-f8a8d6203ce9"
      },
      "execution_count": 2,
      "outputs": [
        {
          "output_type": "stream",
          "name": "stdout",
          "text": [
            "Cloning into 'AstroDC'...\n",
            "remote: Enumerating objects: 210, done.\u001b[K\n",
            "remote: Counting objects: 100% (75/75), done.\u001b[K\n",
            "remote: Compressing objects: 100% (71/71), done.\u001b[K\n",
            "remote: Total 210 (delta 35), reused 0 (delta 0), pack-reused 135\u001b[K\n",
            "Receiving objects: 100% (210/210), 1.13 MiB | 6.23 MiB/s, done.\n",
            "Resolving deltas: 100% (94/94), done.\n"
          ]
        }
      ]
    },
    {
      "cell_type": "code",
      "source": [
        "pip install git+https://github.com/Mahdi-Abdollahii/AstroDC.git"
      ],
      "metadata": {
        "colab": {
          "base_uri": "https://localhost:8080/"
        },
        "id": "Tss952dx2N78",
        "outputId": "eea49894-c3cb-4660-9767-daf096b8e03e"
      },
      "execution_count": 3,
      "outputs": [
        {
          "output_type": "stream",
          "name": "stdout",
          "text": [
            "Looking in indexes: https://pypi.org/simple, https://us-python.pkg.dev/colab-wheels/public/simple/\n",
            "Collecting git+https://github.com/Mahdi-Abdollahii/AstroDC.git\n",
            "  Cloning https://github.com/Mahdi-Abdollahii/AstroDC.git to /tmp/pip-req-build-a5438xap\n",
            "  Running command git clone -q https://github.com/Mahdi-Abdollahii/AstroDC.git /tmp/pip-req-build-a5438xap\n",
            "Building wheels for collected packages: AstroDC\n",
            "  Building wheel for AstroDC (setup.py) ... \u001b[?25l\u001b[?25hdone\n",
            "  Created wheel for AstroDC: filename=AstroDC-1.0.4-py3-none-any.whl size=2567 sha256=f94b25cbe8c3dbfc3e07714603ba70fda659006f7fdd7c7bd09c4ed00f6bd65a\n",
            "  Stored in directory: /tmp/pip-ephem-wheel-cache-dxbmgggz/wheels/3a/dd/30/3b5d25852c9372703f4d564c038363f5a68f610031b9fd3335\n",
            "Successfully built AstroDC\n",
            "Installing collected packages: AstroDC\n",
            "Successfully installed AstroDC-1.0.4\n"
          ]
        }
      ]
    },
    {
      "cell_type": "code",
      "source": [
        "import numpy as np\n",
        "import pandas as pd\n",
        "from AstroDC import AstroDC as ADC\n",
        "from astropy import units"
      ],
      "metadata": {
        "id": "ufhCPu5m2aY9"
      },
      "execution_count": 10,
      "outputs": []
    },
    {
      "cell_type": "code",
      "source": [
        "file_address = '/content/NGC_6822/Data/final_cleaned_data.csv'\n",
        "df = pd.read_csv(file_address , index_col='Mid')\n",
        "df = df.replace('', 89.99)\n",
        "df = df.fillna(89.99)"
      ],
      "metadata": {
        "id": "c2aMgXsJ2QDO"
      },
      "execution_count": 6,
      "outputs": []
    },
    {
      "cell_type": "code",
      "source": [
        "df"
      ],
      "metadata": {
        "colab": {
          "base_uri": "https://localhost:8080/",
          "height": 455
        },
        "id": "kaq_evK82yq9",
        "outputId": "45380214-d5b1-4150-c6e6-7a2375144ed5"
      },
      "execution_count": 8,
      "outputs": [
        {
          "output_type": "execute_result",
          "data": {
            "text/plain": [
              "      Id-main  Ra(J2000) deg  Dec(J2000) deg      J  ...     eH     Ks    eKs  Types\n",
              "Mid                                                  ...                            \n",
              "1    10870.00         296.18          -14.82  17.52  ...   0.04  16.19   0.05      S\n",
              "2    10784.00         296.22          -14.83  17.45  ...   0.04  16.20   0.06      S\n",
              "3    11004.00         296.27          -14.81  17.60  ...   0.03  16.27   0.05      S\n",
              "4    11029.00         296.28          -14.80  17.46  ...   0.02  16.22   0.05      S\n",
              "5    12050.00         296.25          -14.82  18.17  ...   0.10  16.70   0.05      S\n",
              "..        ...            ...             ...    ...  ...    ...    ...    ...    ...\n",
              "381     89.99         296.00          -14.97  18.39  ...  89.99  17.21  89.99    C  \n",
              "382     89.99         297.18          -14.45  18.53  ...  89.99  17.29  89.99    C  \n",
              "383     89.99         297.11          -14.49  18.19  ...  89.99  16.66  89.99    C  \n",
              "384     89.99         297.01          -14.35  18.20  ...  89.99  16.94  89.99    C  \n",
              "385     89.99         295.69          -15.16  17.74  ...  89.99  16.43  89.99      C\n",
              "\n",
              "[385 rows x 10 columns]"
            ],
            "text/html": [
              "\n",
              "  <div id=\"df-3e564bc3-b91f-4a59-875f-0ee141a9d83c\">\n",
              "    <div class=\"colab-df-container\">\n",
              "      <div>\n",
              "<style scoped>\n",
              "    .dataframe tbody tr th:only-of-type {\n",
              "        vertical-align: middle;\n",
              "    }\n",
              "\n",
              "    .dataframe tbody tr th {\n",
              "        vertical-align: top;\n",
              "    }\n",
              "\n",
              "    .dataframe thead th {\n",
              "        text-align: right;\n",
              "    }\n",
              "</style>\n",
              "<table border=\"1\" class=\"dataframe\">\n",
              "  <thead>\n",
              "    <tr style=\"text-align: right;\">\n",
              "      <th></th>\n",
              "      <th>Id-main</th>\n",
              "      <th>Ra(J2000) deg</th>\n",
              "      <th>Dec(J2000) deg</th>\n",
              "      <th>J</th>\n",
              "      <th>eJ</th>\n",
              "      <th>H</th>\n",
              "      <th>eH</th>\n",
              "      <th>Ks</th>\n",
              "      <th>eKs</th>\n",
              "      <th>Types</th>\n",
              "    </tr>\n",
              "    <tr>\n",
              "      <th>Mid</th>\n",
              "      <th></th>\n",
              "      <th></th>\n",
              "      <th></th>\n",
              "      <th></th>\n",
              "      <th></th>\n",
              "      <th></th>\n",
              "      <th></th>\n",
              "      <th></th>\n",
              "      <th></th>\n",
              "      <th></th>\n",
              "    </tr>\n",
              "  </thead>\n",
              "  <tbody>\n",
              "    <tr>\n",
              "      <th>1</th>\n",
              "      <td>10870.00</td>\n",
              "      <td>296.18</td>\n",
              "      <td>-14.82</td>\n",
              "      <td>17.52</td>\n",
              "      <td>0.04</td>\n",
              "      <td>16.53</td>\n",
              "      <td>0.04</td>\n",
              "      <td>16.19</td>\n",
              "      <td>0.05</td>\n",
              "      <td>S</td>\n",
              "    </tr>\n",
              "    <tr>\n",
              "      <th>2</th>\n",
              "      <td>10784.00</td>\n",
              "      <td>296.22</td>\n",
              "      <td>-14.83</td>\n",
              "      <td>17.45</td>\n",
              "      <td>0.03</td>\n",
              "      <td>16.53</td>\n",
              "      <td>0.04</td>\n",
              "      <td>16.20</td>\n",
              "      <td>0.06</td>\n",
              "      <td>S</td>\n",
              "    </tr>\n",
              "    <tr>\n",
              "      <th>3</th>\n",
              "      <td>11004.00</td>\n",
              "      <td>296.27</td>\n",
              "      <td>-14.81</td>\n",
              "      <td>17.60</td>\n",
              "      <td>0.03</td>\n",
              "      <td>16.62</td>\n",
              "      <td>0.03</td>\n",
              "      <td>16.27</td>\n",
              "      <td>0.05</td>\n",
              "      <td>S</td>\n",
              "    </tr>\n",
              "    <tr>\n",
              "      <th>4</th>\n",
              "      <td>11029.00</td>\n",
              "      <td>296.28</td>\n",
              "      <td>-14.80</td>\n",
              "      <td>17.46</td>\n",
              "      <td>0.03</td>\n",
              "      <td>16.55</td>\n",
              "      <td>0.02</td>\n",
              "      <td>16.22</td>\n",
              "      <td>0.05</td>\n",
              "      <td>S</td>\n",
              "    </tr>\n",
              "    <tr>\n",
              "      <th>5</th>\n",
              "      <td>12050.00</td>\n",
              "      <td>296.25</td>\n",
              "      <td>-14.82</td>\n",
              "      <td>18.17</td>\n",
              "      <td>0.07</td>\n",
              "      <td>17.25</td>\n",
              "      <td>0.10</td>\n",
              "      <td>16.70</td>\n",
              "      <td>0.05</td>\n",
              "      <td>S</td>\n",
              "    </tr>\n",
              "    <tr>\n",
              "      <th>...</th>\n",
              "      <td>...</td>\n",
              "      <td>...</td>\n",
              "      <td>...</td>\n",
              "      <td>...</td>\n",
              "      <td>...</td>\n",
              "      <td>...</td>\n",
              "      <td>...</td>\n",
              "      <td>...</td>\n",
              "      <td>...</td>\n",
              "      <td>...</td>\n",
              "    </tr>\n",
              "    <tr>\n",
              "      <th>381</th>\n",
              "      <td>89.99</td>\n",
              "      <td>296.00</td>\n",
              "      <td>-14.97</td>\n",
              "      <td>18.39</td>\n",
              "      <td>89.99</td>\n",
              "      <td>17.56</td>\n",
              "      <td>89.99</td>\n",
              "      <td>17.21</td>\n",
              "      <td>89.99</td>\n",
              "      <td>C</td>\n",
              "    </tr>\n",
              "    <tr>\n",
              "      <th>382</th>\n",
              "      <td>89.99</td>\n",
              "      <td>297.18</td>\n",
              "      <td>-14.45</td>\n",
              "      <td>18.53</td>\n",
              "      <td>89.99</td>\n",
              "      <td>18.26</td>\n",
              "      <td>89.99</td>\n",
              "      <td>17.29</td>\n",
              "      <td>89.99</td>\n",
              "      <td>C</td>\n",
              "    </tr>\n",
              "    <tr>\n",
              "      <th>383</th>\n",
              "      <td>89.99</td>\n",
              "      <td>297.11</td>\n",
              "      <td>-14.49</td>\n",
              "      <td>18.19</td>\n",
              "      <td>89.99</td>\n",
              "      <td>17.38</td>\n",
              "      <td>89.99</td>\n",
              "      <td>16.66</td>\n",
              "      <td>89.99</td>\n",
              "      <td>C</td>\n",
              "    </tr>\n",
              "    <tr>\n",
              "      <th>384</th>\n",
              "      <td>89.99</td>\n",
              "      <td>297.01</td>\n",
              "      <td>-14.35</td>\n",
              "      <td>18.20</td>\n",
              "      <td>89.99</td>\n",
              "      <td>17.55</td>\n",
              "      <td>89.99</td>\n",
              "      <td>16.94</td>\n",
              "      <td>89.99</td>\n",
              "      <td>C</td>\n",
              "    </tr>\n",
              "    <tr>\n",
              "      <th>385</th>\n",
              "      <td>89.99</td>\n",
              "      <td>295.69</td>\n",
              "      <td>-15.16</td>\n",
              "      <td>17.74</td>\n",
              "      <td>89.99</td>\n",
              "      <td>16.79</td>\n",
              "      <td>89.99</td>\n",
              "      <td>16.43</td>\n",
              "      <td>89.99</td>\n",
              "      <td>C</td>\n",
              "    </tr>\n",
              "  </tbody>\n",
              "</table>\n",
              "<p>385 rows × 10 columns</p>\n",
              "</div>\n",
              "      <button class=\"colab-df-convert\" onclick=\"convertToInteractive('df-3e564bc3-b91f-4a59-875f-0ee141a9d83c')\"\n",
              "              title=\"Convert this dataframe to an interactive table.\"\n",
              "              style=\"display:none;\">\n",
              "        \n",
              "  <svg xmlns=\"http://www.w3.org/2000/svg\" height=\"24px\"viewBox=\"0 0 24 24\"\n",
              "       width=\"24px\">\n",
              "    <path d=\"M0 0h24v24H0V0z\" fill=\"none\"/>\n",
              "    <path d=\"M18.56 5.44l.94 2.06.94-2.06 2.06-.94-2.06-.94-.94-2.06-.94 2.06-2.06.94zm-11 1L8.5 8.5l.94-2.06 2.06-.94-2.06-.94L8.5 2.5l-.94 2.06-2.06.94zm10 10l.94 2.06.94-2.06 2.06-.94-2.06-.94-.94-2.06-.94 2.06-2.06.94z\"/><path d=\"M17.41 7.96l-1.37-1.37c-.4-.4-.92-.59-1.43-.59-.52 0-1.04.2-1.43.59L10.3 9.45l-7.72 7.72c-.78.78-.78 2.05 0 2.83L4 21.41c.39.39.9.59 1.41.59.51 0 1.02-.2 1.41-.59l7.78-7.78 2.81-2.81c.8-.78.8-2.07 0-2.86zM5.41 20L4 18.59l7.72-7.72 1.47 1.35L5.41 20z\"/>\n",
              "  </svg>\n",
              "      </button>\n",
              "      \n",
              "  <style>\n",
              "    .colab-df-container {\n",
              "      display:flex;\n",
              "      flex-wrap:wrap;\n",
              "      gap: 12px;\n",
              "    }\n",
              "\n",
              "    .colab-df-convert {\n",
              "      background-color: #E8F0FE;\n",
              "      border: none;\n",
              "      border-radius: 50%;\n",
              "      cursor: pointer;\n",
              "      display: none;\n",
              "      fill: #1967D2;\n",
              "      height: 32px;\n",
              "      padding: 0 0 0 0;\n",
              "      width: 32px;\n",
              "    }\n",
              "\n",
              "    .colab-df-convert:hover {\n",
              "      background-color: #E2EBFA;\n",
              "      box-shadow: 0px 1px 2px rgba(60, 64, 67, 0.3), 0px 1px 3px 1px rgba(60, 64, 67, 0.15);\n",
              "      fill: #174EA6;\n",
              "    }\n",
              "\n",
              "    [theme=dark] .colab-df-convert {\n",
              "      background-color: #3B4455;\n",
              "      fill: #D2E3FC;\n",
              "    }\n",
              "\n",
              "    [theme=dark] .colab-df-convert:hover {\n",
              "      background-color: #434B5C;\n",
              "      box-shadow: 0px 1px 3px 1px rgba(0, 0, 0, 0.15);\n",
              "      filter: drop-shadow(0px 1px 2px rgba(0, 0, 0, 0.3));\n",
              "      fill: #FFFFFF;\n",
              "    }\n",
              "  </style>\n",
              "\n",
              "      <script>\n",
              "        const buttonEl =\n",
              "          document.querySelector('#df-3e564bc3-b91f-4a59-875f-0ee141a9d83c button.colab-df-convert');\n",
              "        buttonEl.style.display =\n",
              "          google.colab.kernel.accessAllowed ? 'block' : 'none';\n",
              "\n",
              "        async function convertToInteractive(key) {\n",
              "          const element = document.querySelector('#df-3e564bc3-b91f-4a59-875f-0ee141a9d83c');\n",
              "          const dataTable =\n",
              "            await google.colab.kernel.invokeFunction('convertToInteractive',\n",
              "                                                     [key], {});\n",
              "          if (!dataTable) return;\n",
              "\n",
              "          const docLinkHtml = 'Like what you see? Visit the ' +\n",
              "            '<a target=\"_blank\" href=https://colab.research.google.com/notebooks/data_table.ipynb>data table notebook</a>'\n",
              "            + ' to learn more about interactive tables.';\n",
              "          element.innerHTML = '';\n",
              "          dataTable['output_type'] = 'display_data';\n",
              "          await google.colab.output.renderOutput(dataTable, element);\n",
              "          const docLink = document.createElement('div');\n",
              "          docLink.innerHTML = docLinkHtml;\n",
              "          element.appendChild(docLink);\n",
              "        }\n",
              "      </script>\n",
              "    </div>\n",
              "  </div>\n",
              "  "
            ]
          },
          "metadata": {},
          "execution_count": 8
        }
      ]
    },
    {
      "cell_type": "code",
      "source": [
        "ADC.Reg_file( df ,'Ra(J2000) deg','Dec(J2000) deg', Units = units.deg, Color = 'red', Size = 10, File_name = 'NGC6822Reg')"
      ],
      "metadata": {
        "id": "LLbZqgZh2Vva"
      },
      "execution_count": 11,
      "outputs": []
    },
    {
      "cell_type": "code",
      "source": [],
      "metadata": {
        "id": "PORUVVda2qhn"
      },
      "execution_count": null,
      "outputs": []
    }
  ]
}